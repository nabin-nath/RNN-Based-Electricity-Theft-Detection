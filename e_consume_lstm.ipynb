{
  "nbformat": 4,
  "nbformat_minor": 0,
  "metadata": {
    "colab": {
      "provenance": [],
      "authorship_tag": "ABX9TyM6MEILQlsNGHRwtJF8lR/e",
      "include_colab_link": true
    },
    "kernelspec": {
      "name": "python3",
      "display_name": "Python 3"
    },
    "language_info": {
      "name": "python"
    },
    "gpuClass": "standard",
    "accelerator": "GPU"
  },
  "cells": [
    {
      "cell_type": "markdown",
      "metadata": {
        "id": "view-in-github",
        "colab_type": "text"
      },
      "source": [
        "<a href=\"https://colab.research.google.com/github/nabin-nath/major-project-2/blob/electricity-consumption/e_consume_lstm.ipynb\" target=\"_parent\"><img src=\"https://colab.research.google.com/assets/colab-badge.svg\" alt=\"Open In Colab\"/></a>"
      ]
    },
    {
      "cell_type": "code",
      "source": [
        "from google.colab import drive\n",
        "drive.mount('/content/drive')"
      ],
      "metadata": {
        "colab": {
          "base_uri": "https://localhost:8080/"
        },
        "id": "jGBCnSJ40OeO",
        "outputId": "3c7e28a2-8bf5-489b-ea0e-e6858ec08d34"
      },
      "execution_count": 1,
      "outputs": [
        {
          "output_type": "stream",
          "name": "stdout",
          "text": [
            "Drive already mounted at /content/drive; to attempt to forcibly remount, call drive.mount(\"/content/drive\", force_remount=True).\n"
          ]
        }
      ]
    },
    {
      "cell_type": "code",
      "execution_count": 2,
      "metadata": {
        "id": "Y0a079Cxus7m"
      },
      "outputs": [],
      "source": [
        "#imports\n",
        "import pandas as pd\n",
        "import numpy as np\n",
        "\n",
        "df = pd.read_csv('/content/drive/MyDrive/Major Project - II/merged_data.csv')"
      ]
    },
    {
      "cell_type": "code",
      "source": [
        "# dataset shuffling\n",
        "df = df.sample(frac=1).reset_index(drop=True)\n",
        "\n",
        "# test and train dataset preparation\n",
        "trainX, trainy = df.iloc[:30000, 2:], df.iloc[:30000, 1:2]\n",
        "testX, testy = df.iloc[30001:, 2:], df.iloc[30001:, 1:2]\n",
        "\n",
        "# print(trainX.shape, trainy.shape, testX.shape, testy.shape)"
      ],
      "metadata": {
        "id": "m2N2jYuRxIyV"
      },
      "execution_count": 3,
      "outputs": []
    },
    {
      "cell_type": "code",
      "source": [
        "#input scaling\n",
        "from sklearn.preprocessing import MinMaxScaler\n",
        "scaler = MinMaxScaler()\n",
        "scaler.fit(trainX)\n",
        "scaled_train = scaler.transform(trainX)\n",
        "scaled_test = scaler.transform(testX)"
      ],
      "metadata": {
        "id": "dSQxnLD-3X_G"
      },
      "execution_count": 5,
      "outputs": []
    },
    {
      "cell_type": "code",
      "source": [
        "from keras.models import Sequential\n",
        "from keras.layers import Dense\n",
        "# from keras.layers import Flatten\n",
        "from keras.layers import Dropout\n",
        "from keras.layers import LSTM"
      ],
      "metadata": {
        "id": "EtilkRmm8WSx"
      },
      "execution_count": 6,
      "outputs": []
    },
    {
      "cell_type": "code",
      "source": [
        "# train model\n",
        "verbose, epochs, batch_size = 1, 15, 64\n",
        "n_timesteps, n_features, n_outputs = trainX.shape[1], 1, trainy.shape[1]\n",
        "model = Sequential()\n",
        "model.add(LSTM(100, input_shape=(n_timesteps,n_features)))\n",
        "model.add(Dropout(0.2))\n",
        "model.add(Dense(100, activation='relu'))\n",
        "model.add(Dense(n_outputs))\n",
        "model.compile(loss='categorical_crossentropy', optimizer='adam', metrics=['accuracy'])\n",
        "# model fitting\n",
        "model.fit(trainX, trainy, epochs=epochs, batch_size=batch_size, verbose=verbose)\n",
        "# evaluation\n",
        "_, accuracy = model.evaluate(testX, testy, batch_size=batch_size, verbose=0)\n",
        "\n"
      ],
      "metadata": {
        "id": "5YSksItcw-7a",
        "colab": {
          "base_uri": "https://localhost:8080/"
        },
        "outputId": "aa5e9f1b-ea78-4927-8c73-e096accae048"
      },
      "execution_count": null,
      "outputs": [
        {
          "output_type": "stream",
          "name": "stdout",
          "text": [
            "Epoch 1/15\n",
            "469/469 [==============================] - 23s 46ms/step - loss: 1.0653e-08 - accuracy: 0.9105\n",
            "Epoch 2/15\n",
            "469/469 [==============================] - 21s 45ms/step - loss: 1.0653e-08 - accuracy: 0.9106\n",
            "Epoch 3/15\n",
            "469/469 [==============================] - 21s 44ms/step - loss: 1.0653e-08 - accuracy: 0.9105\n",
            "Epoch 4/15\n",
            "469/469 [==============================] - 21s 45ms/step - loss: 1.0653e-08 - accuracy: 0.9106\n",
            "Epoch 5/15\n",
            "469/469 [==============================] - 21s 45ms/step - loss: 1.0653e-08 - accuracy: 0.9105\n",
            "Epoch 6/15\n",
            "469/469 [==============================] - 21s 45ms/step - loss: 1.0653e-08 - accuracy: 0.9106\n",
            "Epoch 7/15\n",
            "469/469 [==============================] - 25s 54ms/step - loss: 1.0653e-08 - accuracy: 0.9106\n",
            "Epoch 8/15\n",
            "469/469 [==============================] - 23s 49ms/step - loss: 1.0653e-08 - accuracy: 0.9106\n",
            "Epoch 9/15\n",
            "469/469 [==============================] - 23s 50ms/step - loss: 1.0653e-08 - accuracy: 0.9105\n",
            "Epoch 10/15\n",
            "469/469 [==============================] - 24s 52ms/step - loss: 1.0653e-08 - accuracy: 0.9106\n",
            "Epoch 11/15\n",
            "469/469 [==============================] - 23s 48ms/step - loss: 1.0653e-08 - accuracy: 0.9106\n",
            "Epoch 12/15\n",
            "469/469 [==============================] - 22s 48ms/step - loss: 1.0653e-08 - accuracy: 0.9106\n",
            "Epoch 13/15\n",
            "469/469 [==============================] - 27s 57ms/step - loss: 1.0653e-08 - accuracy: 0.9106\n",
            "Epoch 14/15\n",
            "469/469 [==============================] - 22s 48ms/step - loss: 1.0653e-08 - accuracy: 0.9105\n",
            "Epoch 15/15\n",
            "469/469 [==============================] - 21s 45ms/step - loss: 1.0653e-08 - accuracy: 0.9105\n"
          ]
        }
      ]
    }
  ]
}