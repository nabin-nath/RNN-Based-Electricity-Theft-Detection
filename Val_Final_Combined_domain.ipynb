{
  "nbformat": 4,
  "nbformat_minor": 0,
  "metadata": {
    "colab": {
      "provenance": [],
      "include_colab_link": true
    },
    "kernelspec": {
      "name": "python3",
      "display_name": "Python 3"
    },
    "language_info": {
      "name": "python"
    },
    "gpuClass": "standard",
    "accelerator": "GPU"
  },
  "cells": [
    {
      "cell_type": "markdown",
      "metadata": {
        "id": "view-in-github",
        "colab_type": "text"
      },
      "source": [
        "<a href=\"https://colab.research.google.com/github/Abhinav4279/rnn-lstm/blob/electricity-consumption/Val_Final_Combined_domain.ipynb\" target=\"_parent\"><img src=\"https://colab.research.google.com/assets/colab-badge.svg\" alt=\"Open In Colab\"/></a>"
      ]
    },
    {
      "cell_type": "code",
      "source": [
        "from google.colab import drive\n",
        "drive.mount('/content/drive')"
      ],
      "metadata": {
        "colab": {
          "base_uri": "https://localhost:8080/"
        },
        "id": "jGBCnSJ40OeO",
        "outputId": "4c465566-f2c0-424f-de09-546c15ecdcc7"
      },
      "execution_count": 1,
      "outputs": [
        {
          "output_type": "stream",
          "name": "stdout",
          "text": [
            "Mounted at /content/drive\n"
          ]
        }
      ]
    },
    {
      "cell_type": "code",
      "source": [
        "pip install -U keras-tuner"
      ],
      "metadata": {
        "colab": {
          "base_uri": "https://localhost:8080/"
        },
        "id": "TBNE0p9RYa0q",
        "outputId": "5764784e-d925-4acc-9eeb-3d69cb373501"
      },
      "execution_count": 2,
      "outputs": [
        {
          "output_type": "stream",
          "name": "stdout",
          "text": [
            "Collecting keras-tuner\n",
            "  Downloading keras_tuner-1.3.5-py3-none-any.whl (176 kB)\n",
            "\u001b[2K     \u001b[90m━━━━━━━━━━━━━━━━━━━━━━━━━━━━━━━━━━━━━━━\u001b[0m \u001b[32m176.1/176.1 kB\u001b[0m \u001b[31m2.8 MB/s\u001b[0m eta \u001b[36m0:00:00\u001b[0m\n",
            "\u001b[?25hRequirement already satisfied: packaging in /usr/local/lib/python3.10/dist-packages (from keras-tuner) (23.1)\n",
            "Requirement already satisfied: requests in /usr/local/lib/python3.10/dist-packages (from keras-tuner) (2.27.1)\n",
            "Collecting kt-legacy (from keras-tuner)\n",
            "  Downloading kt_legacy-1.0.5-py3-none-any.whl (9.6 kB)\n",
            "Requirement already satisfied: urllib3<1.27,>=1.21.1 in /usr/local/lib/python3.10/dist-packages (from requests->keras-tuner) (1.26.16)\n",
            "Requirement already satisfied: certifi>=2017.4.17 in /usr/local/lib/python3.10/dist-packages (from requests->keras-tuner) (2023.7.22)\n",
            "Requirement already satisfied: charset-normalizer~=2.0.0 in /usr/local/lib/python3.10/dist-packages (from requests->keras-tuner) (2.0.12)\n",
            "Requirement already satisfied: idna<4,>=2.5 in /usr/local/lib/python3.10/dist-packages (from requests->keras-tuner) (3.4)\n",
            "Installing collected packages: kt-legacy, keras-tuner\n",
            "Successfully installed keras-tuner-1.3.5 kt-legacy-1.0.5\n"
          ]
        }
      ]
    },
    {
      "cell_type": "code",
      "execution_count": 3,
      "metadata": {
        "id": "Y0a079Cxus7m",
        "colab": {
          "base_uri": "https://localhost:8080/"
        },
        "outputId": "0fd405be-1354-4439-c121-d11d4e1ac705"
      },
      "outputs": [
        {
          "output_type": "stream",
          "name": "stderr",
          "text": [
            "<ipython-input-3-4ee72f508c91>:8: DeprecationWarning: `import kerastuner` is deprecated, please use `import keras_tuner`.\n",
            "  from kerastuner.tuners import RandomSearch\n",
            "<ipython-input-3-4ee72f508c91>:10: DtypeWarning: Columns (0,2,3,4,5,6,7,8,9,10,11,12,13,14,15,16,17,18,19,20,21,22,23,24,25,26,27,28,29,30,31,32,33,34,35,36,37,38,39,40,41,42,43,44,45,46,47,48,49,50,51,52,53,54,55,56,57,58,59,60,61,62,63,64,65,66,67,68,69,70,71,72,73,74,75,76,77,78,79,80,81,82,83,84,85,86,87,88,89,90,91,92,93,94,95,96,97,98,99,100,101,102,103,104,105,106,107,108,109,110,111,112,113,114,115,116,117,118,119,120,121,122,123,124,125,126,127,128,129,130,131,132,133,134,135,136,137,138,139,140,141,142,143,144,145,146,147,148,149,150,151,152,153,154,155,156,157,158,159,160,161,162,163,164,165,166,167,168,169,170,171,172,173,174,175,176,177,178,179,180,181,182,183,184,185,186,187,188,189,190,191,192,193,194,195,196,197,198,199,200,201,202,203,204,205,206,207,208,209,210,211,212,213,214,215,216,217,218,219,220,221,222,223,224,225,226,227,228,229,230,231,232,233,234,235,236,237,238,239,240,241,242,243,244,245,246,247,248,249,250,251,252,253,254,255,256,257,258,259,260,261,262,263,264,265,266,267,268,269,270,271,272,273,274,275,276,277,278,279,280,281,282,283,284,285,286,287,288,289,290,291,292,293,294,295,296,297,298,299,300,301,302,303,304,305,306,307,308,309,310,311,312,313,314,315,316,317,318,319,320,321,322,323,324,325,326,327,328,329,330,331,332,333,334,335,336,337,338,339,340,341,342,343,344,345,346,347,348,349,350,351,352,353,354,355,356,357,358,359,360,361,362,363,364,365,366,367,368,369,370,371,372,373,374,375,376,377,378,379,380,381,382,383,384,385,386,387,388,389,390,391,392,393,394,395,396,397,398,399,400,401,402,403,404,405,406,407,408,409,410,411,412,413,414,415,416,417,418,419,420,421,422,423,424,425,426,427,428,429,430,431,432,433,434,435,436,437,438,439,440,441,442,443,444,445,446,447,448,449,450,451,452,453,454,455,456,457,458,459,460,461,462,463,464,465,466,467,468,469,470,471,472,473,474,475,476,477,478,479,480,481,482,483,484,485,486,487,488,489,490,491,492,493,494,495,496,497,498,499,500,501,502,503,504,505,506,507,508,509,510,511,512,513,514,515,516,517,518,519,520,521,522,523,524,525,526,527,528,529,530,531,532,533,534,535,536,537,538,539,540,541,542,543,544,545,546,547,548,549,550,551,552,553,554,555,556,557,558,559,560,561,562,563,564,565,566,567,568,569,570,571,572,573,574,575,576,577,578,579,580,581,582,583,584,585,586,587,588,589,590,591,592,593,594,595,596,597,598,599,600,601,602,603,604,605,606,607,608,609,610,611,612,613,614,615,616,617,618,619,620,621,622,623,624,625,626,627,628,629,630,631,632,633,634,635,636,637,638,639,640,641,642,643,644,645,646,647,648,649,650,651,652,653,654,655,656,657,658,659,660,661,662,663,664,665,666,667,668,669,670,671,672,673,674,675,676,677,678,679,680,681,682,683,684,685,686,687,688,689,690,691,692,693,694,695,696,697,698,699,700,701,702,703,704,705,706,707,708,709,710,711,712,713,714,715,716,717,718,719,720,721,722,723,724,725,726,727,728,729,730,731,732,733,734,735,736,737,738,739,740,741,742,743,744,745,746,747,748,749,750,751,752,753,754,755,756,757,758,759,760,761,762,763,764,765,766,767,768,769,770,771,772,773,774,775,776,777,778,779,780,781,782,783,784,785,786,787,788,789,790,791,792,793,794,795,796,797,798,799,800,801,802,803,804,805,806,807,808,809,810,811,812,813,814,815,816,817,818,819,820,821,822,823,824,825,826,827,828,829,830,831,832,833,834,835,836,837,838,839,840,841,842,843,844,845,846,847,848,849,850,851,852,853,854,855,856,857,858,859,860,861,862,863,864,865,866,867,868,869,870,871,872,873,874,875,876,877,878,879,880,881,882,883,884,885,886,887,888,889,890,891,892,893,894,895,896,897,898,899,900,901,902,903,904,905,906,907,908,909,910,911,912,913,914,915,916,917,918,919,920,921,922,923,924,925,926,927,928,929,930,931,932,933,934,935,936,937,938,939,940,941,942,943,944,945,946,947,948,949,950,951,952,953,954,955,956,957,958,959,960,961,962,963,964,965,966,967,968,969,970,971,972,973,974,975,976,977,978,979,980,981,982,983,984,985,986,987,988,989,990,991,992,993,994,995,996,997,998,999,1000,1001,1002,1003,1004,1005,1006,1007,1008,1009,1010,1011,1012,1013,1014,1015,1016,1017,1018,1019,1020,1021,1022,1023,1024,1025,1026,1027,1028,1029,1030,1031,1032,1033,1034,1035,1036) have mixed types. Specify dtype option on import or set low_memory=False.\n",
            "  df0 = pd.read_csv('/content/drive/MyDrive/Major Project - II/0_interpolate_n.csv')\n",
            "<ipython-input-3-4ee72f508c91>:11: DtypeWarning: Columns (0,2,3,4,5,6,7,8,9,10,11,12,13,14,15,16,17,18,19,20,21,22,23,24,25,26,27,28,29,30,31,32,33,34,35,36,37,38,39,40,41,42,43,44,45,46,47,48,49,50,51,52,53,54,55,56,57,58,59,60,61,62,63,64,65,66,67,68,69,70,71,72,73,74,75,76,77,78,79,80,81,82,83,84,85,86,87,88,89,90,91,92,93,94,95,96,97,98,99,100,101,102,103,104,105,106,107,108,109,110,111,112,113,114,115,116,117,118,119,120,121,122,123,124,125,126,127,128,129,130,131,132,133,134,135,136,137,138,139,140,141,142,143,144,145,146,147,148,149,150,151,152,153,154,155,156,157,158,159,160,161,162,163,164,165,166,167,168,169,170,171,172,173,174,175,176,177,178,179,180,181,182,183,184,185,186,187,188,189,190,191,192,193,194,195,196,197,198,199,200,201,202,203,204,205,206,207,208,209,210,211,212,213,214,215,216,217,218,219,220,221,222,223,224,225,226,227,228,229,230,231,232,233,234,235,236,237,238,239,240,241,242,243,244,245,246,247,248,249,250,251,252,253,254,255,256,257,258,259,260,261,262,263,264,265,266,267,268,269,270,271,272,273,274,275,276,277,278,279,280,281,282,283,284,285,286,287,288,289,290,291,292,293,294,295,296,297,298,299,300,301,302,303,304,305,306,307,308,309,310,311,312,313,314,315,316,317,318,319,320,321,322,323,324,325,326,327,328,329,330,331,332,333,334,335,336,337,338,339,340,341,342,343,344,345,346,347,348,349,350,351,352,353,354,355,356,357,358,359,360,361,362,363,364,365,366,367,368,369,370,371,372,373,374,375,376,377,378,379,380,381,382,383,384,385,386,387,388,389,390,391,392,393,394,395,396,397,398,399,400,401,402,403,404,405,406,407,408,409,410,411,412,413,414,415,416,417,418,419,420,421,422,423,424,425,426,427,428,429,430,431,432,433,434,435,436,437,438,439,440,441,442,443,444,445,446,447,448,449,450,451,452,453,454,455,456,457,458,459,460,461,462,463,464,465,466,467,468,469,470,471,472,473,474,475,476,477,478,479,480,481,482,483,484,485,486,487,488,489,490,491,492,493,494,495,496,497,498,499,500,501,502,503,504,505,506,507,508,509,510,511,512,513,514,515,516,517,518,519,520,521,522,523,524,525,526,527,528,529,530,531,532,533,534,535,536,537,538,539,540,541,542,543,544,545,546,547,548,549,550,551,552,553,554,555,556,557,558,559,560,561,562,563,564,565,566,567,568,569,570,571,572,573,574,575,576,577,578,579,580,581,582,583,584,585,586,587,588,589,590,591,592,593,594,595,596,597,598,599,600,601,602,603,604,605,606,607,608,609,610,611,612,613,614,615,616,617,618,619,620,621,622,623,624,625,626,627,628,629,630,631,632,633,634,635,636,637,638,639,640,641,642,643,644,645,646,647,648,649,650,651,652,653,654,655,656,657,658,659,660,661,662,663,664,665,666,667,668,669,670,671,672,673,674,675,676,677,678,679,680,681,682,683,684,685,686,687,688,689,690,691,692,693,694,695,696,697,698,699,700,701,702,703,704,705,706,707,708,709,710,711,712,713,714,715,716,717,718,719,720,721,722,723,724,725,726,727,728,729,730,731,732,733,734,735,736,737,738,739,740,741,742,743,744,745,746,747,748,749,750,751,752,753,754,755,756,757,758,759,760,761,762,763,764,765,766,767,768,769,770,771,772,773,774,775,776,777,778,779,780,781,782,783,784,785,786,787,788,789,790,791,792,793,794,795,796,797,798,799,800,801,802,803,804,805,806,807,808,809,810,811,812,813,814,815,816,817,818,819,820,821,822,823,824,825,826,827,828,829,830,831,832,833,834,835,836,837,838,839,840,841,842,843,844,845,846,847,848,849,850,851,852,853,854,855,856,857,858,859,860,861,862,863,864,865,866,867,868,869,870,871,872,873,874,875,876,877,878,879,880,881,882,883,884,885,886,887,888,889,890,891,892,893,894,895,896,897,898,899,900,901,902,903,904,905,906,907,908,909,910,911,912,913,914,915,916,917,918,919,920,921,922,923,924,925,926,927,928,929,930,931,932,933,934,935,936,937,938,939,940,941,942,943,944,945,946,947,948,949,950,951,952,953,954,955,956,957,958,959,960,961,962,963,964,965,966,967,968,969,970,971,972,973,974,975,976,977,978,979,980,981,982,983,984,985,986,987,988,989,990,991,992,993,994,995,996,997,998,999,1000,1001,1002,1003,1004,1005,1006,1007,1008,1009,1010,1011,1012,1013,1014,1015,1016,1017,1018,1019,1020,1021,1022,1023,1024,1025,1026,1027,1028,1029,1030,1031,1032,1033,1034,1035,1036) have mixed types. Specify dtype option on import or set low_memory=False.\n",
            "  df1 = pd.read_csv('/content/drive/MyDrive/Major Project - II/1_interpolate_n.csv')\n"
          ]
        }
      ],
      "source": [
        "#imports\n",
        "import pandas as pd\n",
        "import numpy as np\n",
        "import tensorflow as tf\n",
        "from tensorflow import keras\n",
        "from keras import layers\n",
        "from keras import callbacks\n",
        "from kerastuner.tuners import RandomSearch\n",
        "\n",
        "df0 = pd.read_csv('/content/drive/MyDrive/Major Project - II/0_interpolate_n.csv')\n",
        "df1 = pd.read_csv('/content/drive/MyDrive/Major Project - II/1_interpolate_n.csv')"
      ]
    },
    {
      "cell_type": "code",
      "source": [
        "df0 = df0.iloc[:,2:]\n",
        "df1 = df1.iloc[:3579,2:]\n",
        "df0 = df0.drop(df0.index[0])\n",
        "df1 = df1.drop(df1.index[0])\n",
        "\n",
        "df0 = df0.fillna(0)\n",
        "df0 = df0.astype('float64')\n",
        "df1 = df1.fillna(0)\n",
        "df1 = df1.astype('float64')\n",
        "\n",
        "from sklearn.utils import resample\n",
        "import pandas as pd\n",
        "import numpy as np\n",
        "\n",
        "# Randomly select the rows\n",
        "n_rows=len(df0)-len(df1)\n",
        "df2 = df0.sample(n=n_rows)\n",
        "\n",
        "# Define a random multiplication factor between 0 and 0.8\n",
        "mult_factor = np.random.uniform(low=0.2, high=0.8, size=(n_rows, df0.shape[1]))\n",
        "\n",
        "# Multiply each column of the selected rows with the multiplication factor\n",
        "df_modified = df2 * mult_factor\n",
        "df_modified['1'] = 1.0\n",
        "\n",
        "# Add the modified rows to a new dataframe\n",
        "df1 = df1.append(df_modified)\n",
        "# df1 = resample(df1,\n",
        "#              replace=True,\n",
        "#              n_samples=len(df0),\n",
        "#              random_state=42)\n",
        "\n",
        "df = pd.concat([df0, df1], ignore_index=True)"
      ],
      "metadata": {
        "id": "BVlb-ECqpfIm",
        "colab": {
          "base_uri": "https://localhost:8080/"
        },
        "outputId": "368be212-d72b-4517-f807-8d70cd096b73"
      },
      "execution_count": 4,
      "outputs": [
        {
          "output_type": "stream",
          "name": "stderr",
          "text": [
            "<ipython-input-4-6b93788883a6>:27: FutureWarning: The frame.append method is deprecated and will be removed from pandas in a future version. Use pandas.concat instead.\n",
            "  df1 = df1.append(df_modified)\n"
          ]
        }
      ]
    },
    {
      "cell_type": "code",
      "source": [
        "print(len(df1), len(df0))"
      ],
      "metadata": {
        "id": "crrkSVI1s1Fx",
        "colab": {
          "base_uri": "https://localhost:8080/"
        },
        "outputId": "3981a462-8214-41c1-8f2b-ce93e39ba62d"
      },
      "execution_count": 5,
      "outputs": [
        {
          "output_type": "stream",
          "name": "stdout",
          "text": [
            "36679 36679\n"
          ]
        }
      ]
    },
    {
      "cell_type": "code",
      "source": [
        "# # Importing required libraries\n",
        "# from sklearn.model_selection import train_test_split\n",
        "# from scipy.interpolate import pchip_interpolate\n",
        "\n",
        "# # dataset shuffling\n",
        "# df = df.sample(frac=1).reset_index(drop=True)\n",
        "\n",
        "# # split the dataset into training, validation, and test datasets\n",
        "# trainvalX, testX, trainvaly, testy = train_test_split(df.iloc[:, 1:], df.iloc[:, :1], test_size=0.2, random_state=42)\n",
        "# trainX, valX, trainy, valy = train_test_split(trainvalX, trainvaly, test_size=0.2, random_state=42)\n",
        "\n",
        "# # Extract the statistical features from the data\n",
        "# train_std_dev = np.std(trainX, axis=1)\n",
        "# train_mean = np.mean(trainX, axis=1)\n",
        "# train_median = np.median(trainX, axis=1)\n",
        "# train_datamean = np.mean(trainX, axis=1)\n",
        "# train_cfpmean = np.mean(trainX, axis=1)\n",
        "\n",
        "# val_std_dev = np.std(valX, axis=1)\n",
        "# val_mean = np.mean(valX, axis=1)\n",
        "# val_median = np.median(valX, axis=1)\n",
        "# val_datamean = np.mean(valX, axis=1)\n",
        "# val_cfpmean = np.mean(valX, axis=1)\n",
        "\n",
        "# test_std_dev = np.std(testX, axis=1)\n",
        "# test_mean = np.mean(testX, axis=1)\n",
        "# test_median = np.median(testX, axis=1)\n",
        "# test_datamean = np.mean(testX, axis=1)\n",
        "# test_cfpmean = np.mean(testX, axis=1)\n",
        "\n",
        "# # Add time domain features\n",
        "# train_stdsProb = np.sum(np.abs(trainX - train_mean.values.reshape(-1, 1)), axis=1) / trainX.shape[1]\n",
        "# val_stdsProb = np.sum(np.abs(valX - val_mean.values.reshape(-1, 1)), axis=1) / valX.shape[1]\n",
        "# test_stdsProb = np.sum(np.abs(testX - test_mean.values.reshape(-1, 1)), axis=1) / testX.shape[1]\n",
        "\n",
        "# train_stdsMean = train_std_dev / train_mean\n",
        "# val_stdsMean = val_std_dev / val_mean\n",
        "# test_stdsMean = test_std_dev / test_mean\n",
        "\n",
        "# train_outsprob = np.sum((trainX - train_mean.values.reshape(-1, 1)) ** 2, axis=1) / trainX.shape[1]\n",
        "# val_outsprob = np.sum((valX - val_mean.values.reshape(-1, 1)) ** 2, axis=1) / valX.shape[1]\n",
        "# test_outsprob = np.sum((testX - test_mean.values.reshape(-1, 1)) ** 2, axis=1) / testX.shape[1]\n",
        "\n",
        "\n",
        "# train_outsDev = train_std_dev / train_median\n",
        "# val_outsDev = val_std_dev / val_median\n",
        "# test_outsDev = test_std_dev / test_median\n",
        "\n",
        "# trainX = np.stack([train_std_dev, train_mean, train_median, train_datamean,  train_cfpmean, train_stdsProb, train_stdsMean, train_outsprob, train_outsDev], axis=1)\n",
        "# testX = np.stack([test_std_dev, test_mean, test_median, test_datamean, test_cfpmean, test_stdsProb, test_stdsMean, test_outsprob, test_outsDev], axis=1)\n",
        "# valX = np.stack([val_std_dev, val_mean, val_median, val_datamean, val_cfpmean, val_stdsProb, val_stdsMean, val_outsprob, val_outsDev], axis=1)"
      ],
      "metadata": {
        "id": "rgkWkeGHO1yn"
      },
      "execution_count": 6,
      "outputs": []
    },
    {
      "cell_type": "code",
      "source": [
        "from sklearn.model_selection import train_test_split\n",
        "\n",
        "df = df.sample(frac=1).reset_index(drop=True)\n",
        "\n",
        "trainvalX, testX, trainvaly, testy = train_test_split(df.iloc[:, 1:], df.iloc[:, :1], test_size=0.2, random_state=42)\n",
        "trainX, valX, trainy, valy = train_test_split(trainvalX, trainvaly, test_size=0.2, random_state=42)\n",
        "\n",
        "# Extract the statistical features from the data\n",
        "train_std_dev = np.std(trainX, axis=1)\n",
        "train_mean = np.mean(trainX, axis=1)\n",
        "train_median = np.median(trainX, axis=1)\n",
        "train_datamean = np.mean(trainX, axis=1)\n",
        "train_cfpmean = np.mean(trainX, axis=1)\n",
        "\n",
        "val_std_dev = np.std(valX, axis=1)\n",
        "val_mean = np.mean(valX, axis=1)\n",
        "val_median = np.median(valX, axis=1)\n",
        "val_datamean = np.mean(valX, axis=1)\n",
        "val_cfpmean = np.mean(valX, axis=1)\n",
        "\n",
        "test_std_dev = np.std(testX, axis=1)\n",
        "test_mean = np.mean(testX, axis=1)\n",
        "test_median = np.median(testX, axis=1)\n",
        "test_datamean = np.mean(testX, axis=1)\n",
        "test_cfpmean = np.mean(testX, axis=1)\n",
        "\n",
        "# Add time domain features\n",
        "train_stdsProb = np.sum(np.abs(trainX - train_mean.values.reshape(-1, 1)), axis=1) / trainX.shape[1]\n",
        "val_stdsProb = np.sum(np.abs(valX - val_mean.values.reshape(-1, 1)), axis=1) / valX.shape[1]\n",
        "test_stdsProb = np.sum(np.abs(testX - test_mean.values.reshape(-1, 1)), axis=1) / testX.shape[1]\n",
        "\n",
        "train_stdsMean = train_std_dev / train_mean\n",
        "val_stdsMean = val_std_dev / val_mean\n",
        "test_stdsMean = test_std_dev / test_mean\n",
        "\n",
        "train_outsprob = np.sum((trainX - train_mean.values.reshape(-1, 1)) ** 2, axis=1) / trainX.shape[1]\n",
        "val_outsprob = np.sum((valX - val_mean.values.reshape(-1, 1)) ** 2, axis=1) / valX.shape[1]\n",
        "test_outsprob = np.sum((testX - test_mean.values.reshape(-1, 1)) ** 2, axis=1) / testX.shape[1]\n",
        "\n",
        "train_outsDev = train_std_dev / train_median\n",
        "val_outsDev = val_std_dev / val_median\n",
        "test_outsDev = test_std_dev / test_median\n",
        "\n",
        "train_hfInd = np.max(trainX.iloc[:, :30], axis=1) - np.max(trainX.iloc[:, 30:60], axis=1)\n",
        "train_hfAMp = np.sum(trainX.iloc[:, :30], axis=1) / np.sum(trainX.iloc[:, 30:60], axis=1)\n",
        "train_bww99 = np.sum(trainX.iloc[:, :99], axis=1) / np.sum(trainX, axis=1)\n",
        "train_flb = np.sum(trainX.iloc[:, :30], axis=1) / np.sum(trainX, axis=1)\n",
        "train_fub = np.sum(trainX.iloc[:, 60:], axis=1) / np.sum(trainX, axis=1)\n",
        "train_bwwpwr = np.sum(trainX.iloc[:, :99] ** 2, axis=1) / np.sum(trainX ** 2, axis=1)\n",
        "train_bw50 = np.sum(trainX.iloc[:, :50], axis=1) / np.sum(trainX, axis=1)\n",
        "train_fmed = np.median(trainX, axis=1)\n",
        "train_fmean = np.mean(trainX, axis=1)\n",
        "\n",
        "val_hfInd = np.max(valX.iloc[:, :30], axis=1) - np.max(valX.iloc[:, 30:60], axis=1)\n",
        "val_hfAMp = np.sum(valX.iloc[:, :30], axis=1) / np.sum(valX.iloc[:, 30:60], axis=1)\n",
        "val_bww99 = np.sum(valX.iloc[:, :99], axis=1) / np.sum(valX, axis=1)\n",
        "val_flb = np.sum(valX.iloc[:, :30], axis=1) / np.sum(valX, axis=1)\n",
        "val_fub = np.sum(valX.iloc[:, 60:], axis=1) / np.sum(valX, axis=1)\n",
        "val_bwwpwr = np.sum(valX.iloc[:, :99] ** 2, axis=1) / np.sum(valX ** 2, axis=1)\n",
        "val_bw50 = np.sum(valX.iloc[:, :50], axis=1) / np.sum(valX, axis=1)\n",
        "val_fmed = np.median(valX, axis=1)\n",
        "val_fmean = np.mean(valX, axis=1)\n",
        "\n",
        "test_hfInd = np.max(testX.iloc[:, :30], axis=1) - np.max(testX.iloc[:, 30:60], axis=1)\n",
        "test_hfAMp = np.sum(testX.iloc[:, :30], axis=1) / np.sum(testX.iloc[:, 30:60], axis=1)\n",
        "test_bww99 = np.sum(testX.iloc[:, :99], axis=1) / np.sum(testX, axis=1)\n",
        "test_flb = np.sum(testX.iloc[:, :30], axis=1) / np.sum(testX, axis=1)\n",
        "test_fub = np.sum(testX.iloc[:, 60:], axis=1) / np.sum(testX, axis=1)\n",
        "test_bwwpwr = np.sum(testX.iloc[:, :99] ** 2, axis=1) / np.sum(testX ** 2, axis=1)\n",
        "test_bw50 = np.sum(testX.iloc[:, :50], axis=1) / np.sum(testX, axis=1)\n",
        "test_fmed = np.median(testX, axis=1)\n",
        "test_fmean = np.mean(testX, axis=1)\n",
        "\n",
        "trainFeatX = np.stack([train_hfInd, train_hfAMp, train_bww99, train_flb, train_fub, train_bwwpwr, train_bw50, train_fmed, train_fmean, train_std_dev, train_mean, train_median, train_datamean,  train_cfpmean, train_stdsProb, train_stdsMean, train_outsprob, train_outsDev], axis=1)\n",
        "testFeatX = np.stack([test_hfInd, test_hfAMp, test_bww99, test_flb, test_fub, test_bwwpwr, test_bw50, test_fmed, test_fmean, test_std_dev, test_mean, test_median, test_datamean, test_cfpmean, test_stdsProb, test_stdsMean, test_outsprob, test_outsDev], axis=1)\n",
        "valFeatX = np.stack([val_hfInd, val_hfAMp, val_bww99, val_flb, val_fub, val_bwwpwr, val_bw50, val_fmed, val_fmean, val_std_dev, val_mean, val_median, val_datamean, val_cfpmean, val_stdsProb, val_stdsMean, val_outsprob, val_outsDev], axis=1)"
      ],
      "metadata": {
        "id": "l_Od5wiGstgd"
      },
      "execution_count": 7,
      "outputs": []
    },
    {
      "cell_type": "code",
      "source": [
        "valy = np.array(valy)\n",
        "testy = np.array(testy)\n",
        "trainy = np.array(trainy)"
      ],
      "metadata": {
        "id": "HX7KmJmwZVDQ"
      },
      "execution_count": 8,
      "outputs": []
    },
    {
      "cell_type": "code",
      "source": [
        "#input scaling\n",
        "from sklearn.preprocessing import MinMaxScaler\n",
        "scaler = MinMaxScaler()\n",
        "scaler.fit(trainX)\n",
        "scaled_train = scaler.transform(trainX)\n",
        "scaled_test = scaler.transform(testX)\n",
        "scaled_val = scaler.transform(valX)"
      ],
      "metadata": {
        "id": "dSQxnLD-3X_G"
      },
      "execution_count": 9,
      "outputs": []
    },
    {
      "cell_type": "code",
      "source": [
        "from keras.models import Sequential\n",
        "from keras.layers import Dense\n",
        "from tensorflow import keras\n",
        "# from keras.layers import Flatten\n",
        "from keras.layers import Dropout\n",
        "from keras.layers import LSTM\n",
        "from keras_tuner.tuners import RandomSearch"
      ],
      "metadata": {
        "id": "EtilkRmm8WSx"
      },
      "execution_count": 10,
      "outputs": []
    },
    {
      "cell_type": "code",
      "source": [
        "import keras_tuner"
      ],
      "metadata": {
        "id": "YyqRW37ePdLg"
      },
      "execution_count": 11,
      "outputs": []
    },
    {
      "cell_type": "code",
      "source": [
        "# class EeHyperModel(keras_tuner.HyperModel):\n",
        "#     def build(self, hp):\n",
        "#         n_timesteps, n_features, n_outputs = trainX.shape[1], 1, trainy.shape[1]\n",
        "#         model = Sequential()\n",
        "#         model.add(LSTM(hp.Int('units_LSTM', 80, 220, step=30), input_shape=(n_timesteps,n_features)))\n",
        "#         model.add(Dropout(hp.Choice('dropout', [0.2, 0.5])))\n",
        "\n",
        "#         for i in range(hp.Int('layers', 1, 3)):\n",
        "#             model.add(Dense(\n",
        "#                 units=hp.Int('units_' + str(i), 30, 200, step=30),\n",
        "#                 activation=hp.Choice('act_' + str(i), ['relu', 'sigmoid'])\n",
        "#             ))\n",
        "\n",
        "#         model.add(Dense(n_outputs, activation='sigmoid'))\n",
        "#         model.compile(loss='binary_crossentropy', optimizer=keras.optimizers.Adam(\n",
        "#             hp.Choice('learning_rate', values=[1e-2, 1e-4])),\n",
        "#                       metrics=['accuracy'])\n",
        "\n",
        "#         return model\n",
        "\n",
        "#     def fit(self, hp, model, *args, **kwargs):\n",
        "#         history = model.fit(\n",
        "#             *args,\n",
        "#             validation_split=0.2,\n",
        "#             batch_size=hp.Int(\"batch_size\", 32, 264, step=32),\n",
        "#             epochs=50,\n",
        "#             callbacks=[tf.keras.callbacks.EarlyStopping(\n",
        "#                 monitor='val_loss',\n",
        "#                 patience=5,\n",
        "#                 restore_best_weights=True\n",
        "#             )],\n",
        "#             **kwargs,\n",
        "#         )\n",
        "#         return history\n",
        "\n"
      ],
      "metadata": {
        "id": "X_NdvTwHVLBv"
      },
      "execution_count": 12,
      "outputs": []
    },
    {
      "cell_type": "code",
      "source": [
        "# class EeHyperModel(keras_tuner.HyperModel):\n",
        "#     def build(self, hp):\n",
        "#       n_timesteps, n_features, n_outputs = trainX.shape[1], 1, trainy.shape[1]\n",
        "#       model = Sequential()\n",
        "#       model.add(LSTM(hp.Int('units_LSTM', 80, 220, step=30), input_shape=(n_timesteps,n_features)))\n",
        "#       model.add(Dropout(hp.Choice('dropout', [0.2, 0.5])))\n",
        "\n",
        "#       for i in range(hp.Int('layers', 1, 3)):\n",
        "#         model.add(Dense(\n",
        "#           units=hp.Int('units_' + str(i), 30, 200, step=30),\n",
        "#           activation=hp.Choice('act_' + str(i), ['relu', 'sigmoid'])\n",
        "#         ))\n",
        "\n",
        "#       model.add(Dense(n_outputs, activation='sigmoid'))\n",
        "#       model.compile(loss='binary_crossentropy', optimizer=keras.optimizers.Adam(\n",
        "#           hp.Choice('learning_rate',\n",
        "#                     values=[1e-2, 1e-4])),\n",
        "#                     metrics=['accuracy'])\n",
        "\n",
        "#       return model\n",
        "\n",
        "#     def fit(self, hp, model, *args, **kwargs):\n",
        "#         return model.fit(\n",
        "#             *args,\n",
        "#             batch_size=hp.Int(\"batch_size\", 32, 264, step=32),\n",
        "#             **kwargs,\n",
        "#         )"
      ],
      "metadata": {
        "id": "5YSksItcw-7a"
      },
      "execution_count": 13,
      "outputs": []
    },
    {
      "cell_type": "code",
      "source": [
        "# tuner = RandomSearch(\n",
        "#     EeHyperModel(),\n",
        "#     objective='val_accuracy',\n",
        "#     max_trials=10,\n",
        "#     executions_per_trial=1,\n",
        "#     directory='my_dir',\n",
        "#     project_name='rnn_lstm'\n",
        "# )"
      ],
      "metadata": {
        "id": "UER0pv0vVQ0f"
      },
      "execution_count": 14,
      "outputs": []
    },
    {
      "cell_type": "code",
      "source": [
        "# tuner.search_space_summary()"
      ],
      "metadata": {
        "id": "Ebq-g66HWcGx"
      },
      "execution_count": 15,
      "outputs": []
    },
    {
      "cell_type": "code",
      "source": [
        "# Will stop training if the \"val_loss\" hasn't improved in 3 epochs.\n",
        "# tuner.search(trainX, trainy, epochs=2,\n",
        "            #  validation_data=(valX,valy))"
      ],
      "metadata": {
        "id": "qxP-PMaZWCcL"
      },
      "execution_count": 16,
      "outputs": []
    },
    {
      "cell_type": "code",
      "source": [
        "# tuner.results_summary()"
      ],
      "metadata": {
        "id": "XF8FHXTOT_Y9"
      },
      "execution_count": 17,
      "outputs": []
    },
    {
      "cell_type": "code",
      "source": [
        "# import the necessary packages\n",
        "from keras.models import Model\n",
        "from keras.layers import Input\n",
        "from keras.layers import concatenate"
      ],
      "metadata": {
        "id": "44DTGn3uaSin"
      },
      "execution_count": 18,
      "outputs": []
    },
    {
      "cell_type": "code",
      "source": [
        "# train model\n",
        "verbose, epochs, batch_size = 1, 15, 64\n",
        "n_timesteps, n_features, n_outputs = trainX.shape[1], trainFeatX.shape[1], trainy.shape[1]\n",
        "\n",
        "series_in = Input(shape=(n_timesteps, 1))\n",
        "other_in = Input(shape=(n_features,)) # not a timeseries just a vector\n",
        "\n",
        "# An example graph\n",
        "lstm_out = LSTM(128)(series_in)\n",
        "merged = concatenate([lstm_out, other_in])\n",
        "out = Dense(n_outputs, activation='sigmoid')(merged)\n",
        "model = Model([series_in, other_in], out)\n",
        "model.compile(loss='binary_crossentropy', optimizer='adam', metrics=['accuracy'])\n",
        "\n",
        "\n",
        "# model = Sequential()\n",
        "# model.add(LSTM(100, input_shape=(n_timesteps,n_features)))\n",
        "# model.add(Dropout(0.2))\n",
        "# model.add(Dense(100, activation='relu'))\n",
        "# model.add(Dense(n_outputs))\n",
        "# model.compile(loss='categorical_crossentropy', optimizer='adam', metrics=['accuracy'])\n",
        "\n",
        "# model fitting\n",
        "model.fit(\n",
        "\t[trainX, trainFeatX], trainy,\n",
        "\tvalidation_data=([valX, valFeatX], valy),\n",
        "\tepochs=10, batch_size=64)\n",
        "# model.fit(trainX, trainy, epochs=epochs, batch_size=batch_size, verbose=verbose)\n",
        "# evaluation\n",
        "# _, accuracy = model.evaluate(testX, testy, batch_size=batch_size, verbose=0)"
      ],
      "metadata": {
        "colab": {
          "base_uri": "https://localhost:8080/"
        },
        "id": "dhQwITfJZmE_",
        "outputId": "b8f146e2-424b-46bf-adfd-5bb10a771d5c"
      },
      "execution_count": 22,
      "outputs": [
        {
          "output_type": "stream",
          "name": "stdout",
          "text": [
            "Epoch 1/10\n",
            "734/734 [==============================] - 34s 43ms/step - loss: 104196820959232.0000 - accuracy: 0.6194 - val_loss: 608061685760.0000 - val_accuracy: 0.7334\n",
            "Epoch 2/10\n",
            "734/734 [==============================] - 31s 43ms/step - loss: 92494125596672.0000 - accuracy: 0.6793 - val_loss: 489848176640.0000 - val_accuracy: 0.6188\n",
            "Epoch 3/10\n",
            "734/734 [==============================] - 31s 42ms/step - loss: 74280704409600.0000 - accuracy: 0.7256 - val_loss: 371380289536.0000 - val_accuracy: 0.8508\n",
            "Epoch 4/10\n",
            "734/734 [==============================] - 31s 42ms/step - loss: 55663044591616.0000 - accuracy: 0.8442 - val_loss: 245207285760.0000 - val_accuracy: 0.8815\n",
            "Epoch 5/10\n",
            "734/734 [==============================] - 31s 42ms/step - loss: 35343118106624.0000 - accuracy: 0.8569 - val_loss: 117497806848.0000 - val_accuracy: 0.8818\n",
            "Epoch 6/10\n",
            "734/734 [==============================] - 33s 45ms/step - loss: 15059779584000.0000 - accuracy: 0.8755 - val_loss: 3069057171456.0000 - val_accuracy: 0.8107\n",
            "Epoch 7/10\n",
            "734/734 [==============================] - 31s 42ms/step - loss: 106629767168.0000 - accuracy: 0.7804 - val_loss: 657280532480.0000 - val_accuracy: 0.6203\n",
            "Epoch 8/10\n",
            "734/734 [==============================] - 31s 43ms/step - loss: 42541297664.0000 - accuracy: 0.6394 - val_loss: 501442609152.0000 - val_accuracy: 0.7844\n",
            "Epoch 9/10\n",
            "734/734 [==============================] - 33s 45ms/step - loss: 2652275736576.0000 - accuracy: 0.8351 - val_loss: 23779824631808.0000 - val_accuracy: 0.8823\n",
            "Epoch 10/10\n",
            "734/734 [==============================] - 31s 42ms/step - loss: 1997840842752.0000 - accuracy: 0.8751 - val_loss: 16428093669376.0000 - val_accuracy: 0.8938\n"
          ]
        },
        {
          "output_type": "execute_result",
          "data": {
            "text/plain": [
              "<keras.callbacks.History at 0x7b9cfa19a230>"
            ]
          },
          "metadata": {},
          "execution_count": 22
        }
      ]
    },
    {
      "cell_type": "code",
      "source": [
        "# Evaluate the model on the test data\n",
        "# my_model = tuner.get_best_models(num_models=1)[0]\n",
        "# print(my_model[0])\n",
        "test_loss, test_accuracy = model.evaluate([testX, testFeatX], testy)\n",
        "\n",
        "# # Print the test accuracy\n",
        "print(\"Test accuracy:\", test_accuracy)"
      ],
      "metadata": {
        "id": "By1Znc8l-m9M",
        "colab": {
          "base_uri": "https://localhost:8080/"
        },
        "outputId": "f11c3252-1c74-4634-fb33-625ab5440bef"
      },
      "execution_count": 23,
      "outputs": [
        {
          "output_type": "stream",
          "name": "stdout",
          "text": [
            "459/459 [==============================] - 7s 16ms/step - loss: 698780811264.0000 - accuracy: 0.8880\n",
            "Test accuracy: 0.888018012046814\n"
          ]
        }
      ]
    },
    {
      "cell_type": "code",
      "source": [
        "val_loss, val_accuracy = model.evaluate([valX, valFeatX], valy)\n",
        "\n",
        "# # Print the val accuracy\n",
        "print(\"Val accuracy:\", val_accuracy)"
      ],
      "metadata": {
        "colab": {
          "base_uri": "https://localhost:8080/"
        },
        "id": "m0LYkrg1PDyU",
        "outputId": "110b01e8-5e7f-44c0-99b9-de549e0ad3ed"
      },
      "execution_count": 24,
      "outputs": [
        {
          "output_type": "stream",
          "name": "stdout",
          "text": [
            "367/367 [==============================] - 5s 14ms/step - loss: 16428092620800.0000 - accuracy: 0.8938\n",
            "Val accuracy: 0.8938490152359009\n"
          ]
        }
      ]
    },
    {
      "cell_type": "code",
      "source": [
        "from sklearn.metrics import precision_recall_fscore_support\n",
        "from sklearn.metrics import roc_auc_score\n",
        "\n",
        "y_pred_test = model.predict([testX, testFeatX])\n",
        "y_true_test = testy\n",
        "\n",
        "y_pred_val = model.predict([valX, valFeatX])\n",
        "y_true_val = valy\n",
        "\n",
        "roc_auc = roc_auc_score(y_true_test, y_pred_test)\n",
        "print('Model: ROC AUC=%.3f' % (roc_auc))"
      ],
      "metadata": {
        "id": "Qyw55uUGHW0s",
        "colab": {
          "base_uri": "https://localhost:8080/"
        },
        "outputId": "e3d4e7da-08d9-4634-8b2d-c09f1f16dbe1"
      },
      "execution_count": 25,
      "outputs": [
        {
          "output_type": "stream",
          "name": "stdout",
          "text": [
            "459/459 [==============================] - 7s 14ms/step\n",
            "367/367 [==============================] - 5s 13ms/step\n",
            "Model: ROC AUC=0.905\n"
          ]
        }
      ]
    },
    {
      "cell_type": "code",
      "source": [
        "roc_auc_val = roc_auc_score(y_true_val, y_pred_val)\n",
        "print('Model: ROC AUC VAL=%.3f' % (roc_auc))"
      ],
      "metadata": {
        "colab": {
          "base_uri": "https://localhost:8080/"
        },
        "id": "O16hiswFO7aZ",
        "outputId": "e1cdc37e-f2f4-445f-951f-417212ae2a4d"
      },
      "execution_count": 26,
      "outputs": [
        {
          "output_type": "stream",
          "name": "stdout",
          "text": [
            "Model: ROC AUC VAL=0.905\n"
          ]
        }
      ]
    },
    {
      "cell_type": "code",
      "source": [
        "y_pred_val = np.array(y_pred_val > 0.5)\n",
        "\n",
        "# validation %\n",
        "precision_recall_fscore_support(y_true_val, y_pred_val, average=None, labels=[True, False])"
      ],
      "metadata": {
        "id": "uN1jD2bM5Mwq",
        "colab": {
          "base_uri": "https://localhost:8080/"
        },
        "outputId": "9c457a5d-8d83-4991-f22e-8eeb09a66e83"
      },
      "execution_count": 27,
      "outputs": [
        {
          "output_type": "execute_result",
          "data": {
            "text/plain": [
              "(array([0.87981636, 0.90902642]),\n",
              " array([0.91274026, 0.87489333]),\n",
              " array([0.89597596, 0.89163333]),\n",
              " array([5879, 5859]))"
            ]
          },
          "metadata": {},
          "execution_count": 27
        }
      ]
    },
    {
      "cell_type": "code",
      "source": [
        "y_pred_test = np.array(y_pred_test > 0.5)\n",
        "\n",
        "# test %\n",
        "precision_recall_fscore_support(y_true_test, y_pred_test, average=None, labels=[True, False])"
      ],
      "metadata": {
        "id": "rwuh3YUxraex",
        "colab": {
          "base_uri": "https://localhost:8080/"
        },
        "outputId": "fa519539-139d-4f7e-8135-d79337a8b273"
      },
      "execution_count": 28,
      "outputs": [
        {
          "output_type": "execute_result",
          "data": {
            "text/plain": [
              "(array([0.86991658, 0.90785714]),\n",
              " array([0.91187321, 0.86427309]),\n",
              " array([0.89040091, 0.88552916]),\n",
              " array([7319, 7353]))"
            ]
          },
          "metadata": {},
          "execution_count": 28
        }
      ]
    },
    {
      "cell_type": "code",
      "source": [],
      "metadata": {
        "id": "KXwbQdvperec"
      },
      "execution_count": 28,
      "outputs": []
    }
  ]
}