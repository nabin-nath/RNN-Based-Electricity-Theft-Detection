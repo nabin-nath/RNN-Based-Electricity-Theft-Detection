{
  "nbformat": 4,
  "nbformat_minor": 0,
  "metadata": {
    "colab": {
      "provenance": [],
      "authorship_tag": "ABX9TyMe9EDEgK5qNr31piadq+Jr",
      "include_colab_link": true
    },
    "kernelspec": {
      "name": "python3",
      "display_name": "Python 3"
    },
    "language_info": {
      "name": "python"
    },
    "gpuClass": "standard",
    "accelerator": "GPU"
  },
  "cells": [
    {
      "cell_type": "markdown",
      "metadata": {
        "id": "view-in-github",
        "colab_type": "text"
      },
      "source": [
        "<a href=\"https://colab.research.google.com/github/nabin-nath/major-project-2/blob/electricity-consumption/sigmoid_upsampled_e_consume_lstm.ipynb\" target=\"_parent\"><img src=\"https://colab.research.google.com/assets/colab-badge.svg\" alt=\"Open In Colab\"/></a>"
      ]
    },
    {
      "cell_type": "code",
      "source": [
        "from google.colab import drive\n",
        "drive.mount('/content/drive')"
      ],
      "metadata": {
        "id": "rXId99DRgWHS",
        "outputId": "06eb109d-7099-4027-b6de-9337ddd89e6e",
        "colab": {
          "base_uri": "https://localhost:8080/"
        }
      },
      "execution_count": null,
      "outputs": [
        {
          "output_type": "stream",
          "name": "stdout",
          "text": [
            "Mounted at /content/drive\n"
          ]
        }
      ]
    },
    {
      "cell_type": "code",
      "execution_count": null,
      "metadata": {
        "id": "Y0a079Cxus7m",
        "outputId": "c9da9f2a-99f7-4971-9925-2ee9ea80600b",
        "colab": {
          "base_uri": "https://localhost:8080/"
        }
      },
      "outputs": [
        {
          "output_type": "stream",
          "name": "stderr",
          "text": [
            "/usr/local/lib/python3.9/dist-packages/IPython/core/interactiveshell.py:3326: DtypeWarning: Columns (0,2,3,4,5,6,7,8,9,10,11,12,13,14,15,16,17,18,19,20,21,22,23,24,25,26,27,28,29,30,31,32,33,34,35,36,37,38,39,40,41,42,43,44,45,46,47,48,49,50,51,52,53,54,55,56,57,58,59,60,61,62,63,64,65,66,67,68,69,70,71,72,73,74,75,76,77,78,79,80,81,82,83,84,85,86,87,88,89,90,91,92,93,94,95,96,97,98,99,100,101,102,103,104,105,106,107,108,109,110,111,112,113,114,115,116,117,118,119,120,121,122,123,124,125,126,127,128,129,130,131,132,133,134,135,136,137,138,139,140,141,142,143,144,145,146,147,148,149,150,151,152,153,154,155,156,157,158,159,160,161,162,163,164,165,166,167,168,169,170,171,172,173,174,175,176,177,178,179,180,181,182,183,184,185,186,187,188,189,190,191,192,193,194,195,196,197,198,199,200,201,202,203,204,205,206,207,208,209,210,211,212,213,214,215,216,217,218,219,220,221,222,223,224,225,226,227,228,229,230,231,232,233,234,235,236,237,238,239,240,241,242,243,244,245,246,247,248,249,250,251,252,253,254,255,256,257,258,259,260,261,262,263,264,265,266,267,268,269,270,271,272,273,274,275,276,277,278,279,280,281,282,283,284,285,286,287,288,289,290,291,292,293,294,295,296,297,298,299,300,301,302,303,304,305,306,307,308,309,310,311,312,313,314,315,316,317,318,319,320,321,322,323,324,325,326,327,328,329,330,331,332,333,334,335,336,337,338,339,340,341,342,343,344,345,346,347,348,349,350,351,352,353,354,355,356,357,358,359,360,361,362,363,364,365,366,367,368,369,370,371,372,373,374,375,376,377,378,379,380,381,382,383,384,385,386,387,388,389,390,391,392,393,394,395,396,397,398,399,400,401,402,403,404,405,406,407,408,409,410,411,412,413,414,415,416,417,418,419,420,421,422,423,424,425,426,427,428,429,430,431,432,433,434,435,436,437,438,439,440,441,442,443,444,445,446,447,448,449,450,451,452,453,454,455,456,457,458,459,460,461,462,463,464,465,466,467,468,469,470,471,472,473,474,475,476,477,478,479,480,481,482,483,484,485,486,487,488,489,490,491,492,493,494,495,496,497,498,499,500,501,502,503,504,505,506,507,508,509,510,511,512,513,514,515,516,517,518,519,520,521,522,523,524,525,526,527,528,529,530,531,532,533,534,535,536,537,538,539,540,541,542,543,544,545,546,547,548,549,550,551,552,553,554,555,556,557,558,559,560,561,562,563,564,565,566,567,568,569,570,571,572,573,574,575,576,577,578,579,580,581,582,583,584,585,586,587,588,589,590,591,592,593,594,595,596,597,598,599,600,601,602,603,604,605,606,607,608,609,610,611,612,613,614,615,616,617,618,619,620,621,622,623,624,625,626,627,628,629,630,631,632,633,634,635,636,637,638,639,640,641,642,643,644,645,646,647,648,649,650,651,652,653,654,655,656,657,658,659,660,661,662,663,664,665,666,667,668,669,670,671,672,673,674,675,676,677,678,679,680,681,682,683,684,685,686,687,688,689,690,691,692,693,694,695,696,697,698,699,700,701,702,703,704,705,706,707,708,709,710,711,712,713,714,715,716,717,718,719,720,721,722,723,724,725,726,727,728,729,730,731,732,733,734,735,736,737,738,739,740,741,742,743,744,745,746,747,748,749,750,751,752,753,754,755,756,757,758,759,760,761,762,763,764,765,766,767,768,769,770,771,772,773,774,775,776,777,778,779,780,781,782,783,784,785,786,787,788,789,790,791,792,793,794,795,796,797,798,799,800,801,802,803,804,805,806,807,808,809,810,811,812,813,814,815,816,817,818,819,820,821,822,823,824,825,826,827,828,829,830,831,832,833,834,835,836,837,838,839,840,841,842,843,844,845,846,847,848,849,850,851,852,853,854,855,856,857,858,859,860,861,862,863,864,865,866,867,868,869,870,871,872,873,874,875,876,877,878,879,880,881,882,883,884,885,886,887,888,889,890,891,892,893,894,895,896,897,898,899,900,901,902,903,904,905,906,907,908,909,910,911,912,913,914,915,916,917,918,919,920,921,922,923,924,925,926,927,928,929,930,931,932,933,934,935,936,937,938,939,940,941,942,943,944,945,946,947,948,949,950,951,952,953,954,955,956,957,958,959,960,961,962,963,964,965,966,967,968,969,970,971,972,973,974,975,976,977,978,979,980,981,982,983,984,985,986,987,988,989,990,991,992,993,994,995,996,997,998,999,1000,1001,1002,1003,1004,1005,1006,1007,1008,1009,1010,1011,1012,1013,1014,1015,1016,1017,1018,1019,1020,1021,1022,1023,1024,1025,1026,1027,1028,1029,1030,1031,1032,1033,1034,1035,1036) have mixed types.Specify dtype option on import or set low_memory=False.\n",
            "  exec(code_obj, self.user_global_ns, self.user_ns)\n"
          ]
        }
      ],
      "source": [
        "#imports\n",
        "import pandas as pd\n",
        "import numpy as np\n",
        "\n",
        "df0 = pd.read_csv('/content/drive/MyDrive/Major Project - II/0_interpolate_n.csv')\n",
        "df1 = pd.read_csv('/content/drive/MyDrive/Major Project - II/1_interpolate_n.csv')\n"
      ]
    },
    {
      "cell_type": "code",
      "source": [
        "df0 = df0.iloc[:,2:]\n",
        "df1 = df1.iloc[:3579,2:]"
      ],
      "metadata": {
        "id": "D8yaMQ9bZjEo"
      },
      "execution_count": null,
      "outputs": []
    },
    {
      "cell_type": "code",
      "source": [
        "df0 = df0.drop(df0.index[0])"
      ],
      "metadata": {
        "id": "WupRZq0KcpJC"
      },
      "execution_count": null,
      "outputs": []
    },
    {
      "cell_type": "code",
      "source": [
        "df1 = df1.drop(df1.index[0])"
      ],
      "metadata": {
        "id": "IOaZwQUWf5Zd"
      },
      "execution_count": null,
      "outputs": []
    },
    {
      "cell_type": "code",
      "source": [
        "df0 = df0.fillna(0)\n",
        "df0 = df0.astype('float64')"
      ],
      "metadata": {
        "id": "x1kXY8xJaWOC"
      },
      "execution_count": null,
      "outputs": []
    },
    {
      "cell_type": "code",
      "source": [
        "df1 = df1.fillna(0)\n",
        "df1 = df1.astype('float64')"
      ],
      "metadata": {
        "id": "MlcF8DPUiXAR"
      },
      "execution_count": null,
      "outputs": []
    },
    {
      "cell_type": "code",
      "source": [
        "from sklearn.utils import resample\n",
        "df1 = resample(df1,\n",
        "             replace=True,\n",
        "             n_samples=len(df0),\n",
        "             random_state=42)"
      ],
      "metadata": {
        "id": "Z130thf79ZOe"
      },
      "execution_count": null,
      "outputs": []
    },
    {
      "cell_type": "code",
      "source": [
        "df = pd.concat([df0, df1], ignore_index=True)"
      ],
      "metadata": {
        "id": "8DWLw5epkJyZ"
      },
      "execution_count": null,
      "outputs": []
    },
    {
      "cell_type": "code",
      "source": [
        "####### Model preparation"
      ],
      "metadata": {
        "id": "706M-HIgkmPy"
      },
      "execution_count": null,
      "outputs": []
    },
    {
      "cell_type": "code",
      "source": [
        "# dataset shuffling\n",
        "df = df.sample(frac=1).reset_index(drop=True)\n",
        "\n",
        "# test and train dataset preparation\n",
        "trainX, trainy = df.iloc[:60000, 1:], df.iloc[:60000, :1]\n",
        "testX, testy = df.iloc[60001:, 1:], df.iloc[60001:, :1]\n",
        "\n",
        "# print(trainX.shape, trainy.shape, testX.shape, testy.shape)"
      ],
      "metadata": {
        "id": "m2N2jYuRxIyV"
      },
      "execution_count": null,
      "outputs": []
    },
    {
      "cell_type": "code",
      "source": [
        "#input scaling\n",
        "from sklearn.preprocessing import MinMaxScaler\n",
        "scaler = MinMaxScaler()\n",
        "scaler.fit(trainX)\n",
        "scaled_train = scaler.transform(trainX)\n",
        "scaled_test = scaler.transform(testX)"
      ],
      "metadata": {
        "id": "dSQxnLD-3X_G"
      },
      "execution_count": null,
      "outputs": []
    },
    {
      "cell_type": "code",
      "source": [
        "from keras.models import Sequential\n",
        "from keras.layers import Dense\n",
        "# from keras.layers import Flatten\n",
        "from keras.layers import Dropout\n",
        "from keras.layers import LSTM"
      ],
      "metadata": {
        "id": "EtilkRmm8WSx"
      },
      "execution_count": null,
      "outputs": []
    },
    {
      "cell_type": "code",
      "source": [
        "# train model\n",
        "verbose, epochs, batch_size = 1, 15, 64\n",
        "n_timesteps, n_features, n_outputs = trainX.shape[1], 1, trainy.shape[1]\n",
        "model = Sequential()\n",
        "model.add(LSTM(150, input_shape=(n_timesteps,n_features)))\n",
        "model.add(Dropout(0.5))\n",
        "model.add(Dense(100, activation='relu'))\n",
        "model.add(Dense(n_outputs, activation='sigmoid'))\n",
        "model.compile(loss='binary_crossentropy', optimizer='adam', metrics=['accuracy'])\n",
        "# model fitting\n",
        "model.fit(trainX, trainy, epochs=epochs, batch_size=batch_size, verbose=verbose)\n",
        "# evaluation\n",
        "_, accuracy = model.evaluate(testX, testy, batch_size=batch_size, verbose=0)\n",
        "\n"
      ],
      "metadata": {
        "id": "5YSksItcw-7a",
        "colab": {
          "base_uri": "https://localhost:8080/"
        },
        "outputId": "e603f0ec-a8ad-43cb-f184-49204a9f160b"
      },
      "execution_count": null,
      "outputs": [
        {
          "output_type": "stream",
          "name": "stdout",
          "text": [
            "Epoch 1/10\n",
            "938/938 [==============================] - 35s 35ms/step - loss: 0.6462 - accuracy: 0.6257\n",
            "Epoch 2/10\n",
            "938/938 [==============================] - 33s 35ms/step - loss: 0.6327 - accuracy: 0.6439\n",
            "Epoch 3/10\n",
            "938/938 [==============================] - 32s 35ms/step - loss: 0.6317 - accuracy: 0.6465\n",
            "Epoch 4/10\n",
            "938/938 [==============================] - 33s 35ms/step - loss: 0.6303 - accuracy: 0.6466\n",
            "Epoch 5/10\n",
            "938/938 [==============================] - 32s 35ms/step - loss: 0.6213 - accuracy: 0.6581\n",
            "Epoch 6/10\n",
            "938/938 [==============================] - 34s 36ms/step - loss: 0.6173 - accuracy: 0.6661\n",
            "Epoch 7/10\n",
            "938/938 [==============================] - 32s 35ms/step - loss: 0.6122 - accuracy: 0.6726\n",
            "Epoch 8/10\n",
            "938/938 [==============================] - 33s 35ms/step - loss: 0.6033 - accuracy: 0.6778\n",
            "Epoch 9/10\n",
            "938/938 [==============================] - 33s 35ms/step - loss: 0.6054 - accuracy: 0.6769\n",
            "Epoch 10/10\n",
            "938/938 [==============================] - 32s 35ms/step - loss: 0.6041 - accuracy: 0.6773\n"
          ]
        }
      ]
    },
    {
      "cell_type": "code",
      "source": [],
      "metadata": {
        "id": "45uCEvJUlJv-"
      },
      "execution_count": null,
      "outputs": []
    }
  ]
}