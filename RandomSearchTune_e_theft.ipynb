{
  "nbformat": 4,
  "nbformat_minor": 0,
  "metadata": {
    "colab": {
      "provenance": [],
      "authorship_tag": "ABX9TyMS1QnTtq0AHIiv4pttp7nx",
      "include_colab_link": true
    },
    "kernelspec": {
      "name": "python3",
      "display_name": "Python 3"
    },
    "language_info": {
      "name": "python"
    },
    "gpuClass": "standard",
    "accelerator": "GPU"
  },
  "cells": [
    {
      "cell_type": "markdown",
      "metadata": {
        "id": "view-in-github",
        "colab_type": "text"
      },
      "source": [
        "<a href=\"https://colab.research.google.com/github/nabin-nath/major-project-2/blob/electricity-consumption/RandomSearchTune_e_theft.ipynb\" target=\"_parent\"><img src=\"https://colab.research.google.com/assets/colab-badge.svg\" alt=\"Open In Colab\"/></a>"
      ]
    },
    {
      "cell_type": "code",
      "source": [
        "from google.colab import drive\n",
        "drive.mount('/content/drive')"
      ],
      "metadata": {
        "colab": {
          "base_uri": "https://localhost:8080/"
        },
        "id": "jGBCnSJ40OeO",
        "outputId": "7dfec509-1ee9-463f-cfb2-e993a6541714"
      },
      "execution_count": null,
      "outputs": [
        {
          "output_type": "stream",
          "name": "stdout",
          "text": [
            "Mounted at /content/drive\n"
          ]
        }
      ]
    },
    {
      "cell_type": "code",
      "source": [
        "pip install -U keras-tuner"
      ],
      "metadata": {
        "colab": {
          "base_uri": "https://localhost:8080/"
        },
        "id": "TBNE0p9RYa0q",
        "outputId": "fb879cd4-d6e8-45b3-ca06-b24d952bc79d"
      },
      "execution_count": null,
      "outputs": [
        {
          "output_type": "stream",
          "name": "stdout",
          "text": [
            "Looking in indexes: https://pypi.org/simple, https://us-python.pkg.dev/colab-wheels/public/simple/\n",
            "Collecting keras-tuner\n",
            "  Downloading keras_tuner-1.3.0-py3-none-any.whl (167 kB)\n",
            "\u001b[?25l     \u001b[90m━━━━━━━━━━━━━━━━━━━━━━━━━━━━━━━━━━━━━━━━\u001b[0m \u001b[32m0.0/167.3 KB\u001b[0m \u001b[31m?\u001b[0m eta \u001b[36m-:--:--\u001b[0m\r\u001b[2K     \u001b[90m━━━━━━━━━━━━━━━━━━━━━━━━━━━━━━━━━━━━━━\u001b[0m \u001b[32m167.3/167.3 KB\u001b[0m \u001b[31m11.6 MB/s\u001b[0m eta \u001b[36m0:00:00\u001b[0m\n",
            "\u001b[?25hRequirement already satisfied: packaging in /usr/local/lib/python3.9/dist-packages (from keras-tuner) (23.0)\n",
            "Collecting kt-legacy\n",
            "  Downloading kt_legacy-1.0.4-py3-none-any.whl (9.6 kB)\n",
            "Requirement already satisfied: ipython in /usr/local/lib/python3.9/dist-packages (from keras-tuner) (7.9.0)\n",
            "Requirement already satisfied: tensorflow>=2.0 in /usr/local/lib/python3.9/dist-packages (from keras-tuner) (2.11.0)\n",
            "Requirement already satisfied: requests in /usr/local/lib/python3.9/dist-packages (from keras-tuner) (2.25.1)\n",
            "Requirement already satisfied: tensorflow-io-gcs-filesystem>=0.23.1 in /usr/local/lib/python3.9/dist-packages (from tensorflow>=2.0->keras-tuner) (0.31.0)\n",
            "Requirement already satisfied: opt-einsum>=2.3.2 in /usr/local/lib/python3.9/dist-packages (from tensorflow>=2.0->keras-tuner) (3.3.0)\n",
            "Requirement already satisfied: wrapt>=1.11.0 in /usr/local/lib/python3.9/dist-packages (from tensorflow>=2.0->keras-tuner) (1.15.0)\n",
            "Requirement already satisfied: gast<=0.4.0,>=0.2.1 in /usr/local/lib/python3.9/dist-packages (from tensorflow>=2.0->keras-tuner) (0.4.0)\n",
            "Requirement already satisfied: absl-py>=1.0.0 in /usr/local/lib/python3.9/dist-packages (from tensorflow>=2.0->keras-tuner) (1.4.0)\n",
            "Requirement already satisfied: h5py>=2.9.0 in /usr/local/lib/python3.9/dist-packages (from tensorflow>=2.0->keras-tuner) (3.1.0)\n",
            "Requirement already satisfied: grpcio<2.0,>=1.24.3 in /usr/local/lib/python3.9/dist-packages (from tensorflow>=2.0->keras-tuner) (1.51.3)\n",
            "Requirement already satisfied: numpy>=1.20 in /usr/local/lib/python3.9/dist-packages (from tensorflow>=2.0->keras-tuner) (1.22.4)\n",
            "Requirement already satisfied: google-pasta>=0.1.1 in /usr/local/lib/python3.9/dist-packages (from tensorflow>=2.0->keras-tuner) (0.2.0)\n",
            "Requirement already satisfied: libclang>=13.0.0 in /usr/local/lib/python3.9/dist-packages (from tensorflow>=2.0->keras-tuner) (15.0.6.1)\n",
            "Requirement already satisfied: astunparse>=1.6.0 in /usr/local/lib/python3.9/dist-packages (from tensorflow>=2.0->keras-tuner) (1.6.3)\n",
            "Requirement already satisfied: termcolor>=1.1.0 in /usr/local/lib/python3.9/dist-packages (from tensorflow>=2.0->keras-tuner) (2.2.0)\n",
            "Requirement already satisfied: flatbuffers>=2.0 in /usr/local/lib/python3.9/dist-packages (from tensorflow>=2.0->keras-tuner) (23.3.3)\n",
            "Requirement already satisfied: setuptools in /usr/local/lib/python3.9/dist-packages (from tensorflow>=2.0->keras-tuner) (57.4.0)\n",
            "Requirement already satisfied: keras<2.12,>=2.11.0 in /usr/local/lib/python3.9/dist-packages (from tensorflow>=2.0->keras-tuner) (2.11.0)\n",
            "Requirement already satisfied: tensorboard<2.12,>=2.11 in /usr/local/lib/python3.9/dist-packages (from tensorflow>=2.0->keras-tuner) (2.11.2)\n",
            "Requirement already satisfied: protobuf<3.20,>=3.9.2 in /usr/local/lib/python3.9/dist-packages (from tensorflow>=2.0->keras-tuner) (3.19.6)\n",
            "Requirement already satisfied: tensorflow-estimator<2.12,>=2.11.0 in /usr/local/lib/python3.9/dist-packages (from tensorflow>=2.0->keras-tuner) (2.11.0)\n",
            "Requirement already satisfied: typing-extensions>=3.6.6 in /usr/local/lib/python3.9/dist-packages (from tensorflow>=2.0->keras-tuner) (4.5.0)\n",
            "Requirement already satisfied: six>=1.12.0 in /usr/local/lib/python3.9/dist-packages (from tensorflow>=2.0->keras-tuner) (1.15.0)\n",
            "Collecting jedi>=0.10\n",
            "  Downloading jedi-0.18.2-py2.py3-none-any.whl (1.6 MB)\n",
            "\u001b[2K     \u001b[90m━━━━━━━━━━━━━━━━━━━━━━━━━━━━━━━━━━━━━━━━\u001b[0m \u001b[32m1.6/1.6 MB\u001b[0m \u001b[31m60.1 MB/s\u001b[0m eta \u001b[36m0:00:00\u001b[0m\n",
            "\u001b[?25hRequirement already satisfied: prompt-toolkit<2.1.0,>=2.0.0 in /usr/local/lib/python3.9/dist-packages (from ipython->keras-tuner) (2.0.10)\n",
            "Requirement already satisfied: pygments in /usr/local/lib/python3.9/dist-packages (from ipython->keras-tuner) (2.6.1)\n",
            "Requirement already satisfied: pickleshare in /usr/local/lib/python3.9/dist-packages (from ipython->keras-tuner) (0.7.5)\n",
            "Requirement already satisfied: traitlets>=4.2 in /usr/local/lib/python3.9/dist-packages (from ipython->keras-tuner) (5.7.1)\n",
            "Requirement already satisfied: decorator in /usr/local/lib/python3.9/dist-packages (from ipython->keras-tuner) (4.4.2)\n",
            "Requirement already satisfied: backcall in /usr/local/lib/python3.9/dist-packages (from ipython->keras-tuner) (0.2.0)\n",
            "Requirement already satisfied: pexpect in /usr/local/lib/python3.9/dist-packages (from ipython->keras-tuner) (4.8.0)\n",
            "Requirement already satisfied: urllib3<1.27,>=1.21.1 in /usr/local/lib/python3.9/dist-packages (from requests->keras-tuner) (1.26.14)\n",
            "Requirement already satisfied: certifi>=2017.4.17 in /usr/local/lib/python3.9/dist-packages (from requests->keras-tuner) (2022.12.7)\n",
            "Requirement already satisfied: chardet<5,>=3.0.2 in /usr/local/lib/python3.9/dist-packages (from requests->keras-tuner) (4.0.0)\n",
            "Requirement already satisfied: idna<3,>=2.5 in /usr/local/lib/python3.9/dist-packages (from requests->keras-tuner) (2.10)\n",
            "Requirement already satisfied: wheel<1.0,>=0.23.0 in /usr/local/lib/python3.9/dist-packages (from astunparse>=1.6.0->tensorflow>=2.0->keras-tuner) (0.38.4)\n",
            "Requirement already satisfied: parso<0.9.0,>=0.8.0 in /usr/local/lib/python3.9/dist-packages (from jedi>=0.10->ipython->keras-tuner) (0.8.3)\n",
            "Requirement already satisfied: wcwidth in /usr/local/lib/python3.9/dist-packages (from prompt-toolkit<2.1.0,>=2.0.0->ipython->keras-tuner) (0.2.6)\n",
            "Requirement already satisfied: tensorboard-plugin-wit>=1.6.0 in /usr/local/lib/python3.9/dist-packages (from tensorboard<2.12,>=2.11->tensorflow>=2.0->keras-tuner) (1.8.1)\n",
            "Requirement already satisfied: markdown>=2.6.8 in /usr/local/lib/python3.9/dist-packages (from tensorboard<2.12,>=2.11->tensorflow>=2.0->keras-tuner) (3.4.1)\n",
            "Requirement already satisfied: google-auth-oauthlib<0.5,>=0.4.1 in /usr/local/lib/python3.9/dist-packages (from tensorboard<2.12,>=2.11->tensorflow>=2.0->keras-tuner) (0.4.6)\n",
            "Requirement already satisfied: google-auth<3,>=1.6.3 in /usr/local/lib/python3.9/dist-packages (from tensorboard<2.12,>=2.11->tensorflow>=2.0->keras-tuner) (2.16.2)\n",
            "Requirement already satisfied: werkzeug>=1.0.1 in /usr/local/lib/python3.9/dist-packages (from tensorboard<2.12,>=2.11->tensorflow>=2.0->keras-tuner) (2.2.3)\n",
            "Requirement already satisfied: tensorboard-data-server<0.7.0,>=0.6.0 in /usr/local/lib/python3.9/dist-packages (from tensorboard<2.12,>=2.11->tensorflow>=2.0->keras-tuner) (0.6.1)\n",
            "Requirement already satisfied: ptyprocess>=0.5 in /usr/local/lib/python3.9/dist-packages (from pexpect->ipython->keras-tuner) (0.7.0)\n",
            "Requirement already satisfied: cachetools<6.0,>=2.0.0 in /usr/local/lib/python3.9/dist-packages (from google-auth<3,>=1.6.3->tensorboard<2.12,>=2.11->tensorflow>=2.0->keras-tuner) (5.3.0)\n",
            "Requirement already satisfied: pyasn1-modules>=0.2.1 in /usr/local/lib/python3.9/dist-packages (from google-auth<3,>=1.6.3->tensorboard<2.12,>=2.11->tensorflow>=2.0->keras-tuner) (0.2.8)\n",
            "Requirement already satisfied: rsa<5,>=3.1.4 in /usr/local/lib/python3.9/dist-packages (from google-auth<3,>=1.6.3->tensorboard<2.12,>=2.11->tensorflow>=2.0->keras-tuner) (4.9)\n",
            "Requirement already satisfied: requests-oauthlib>=0.7.0 in /usr/local/lib/python3.9/dist-packages (from google-auth-oauthlib<0.5,>=0.4.1->tensorboard<2.12,>=2.11->tensorflow>=2.0->keras-tuner) (1.3.1)\n",
            "Requirement already satisfied: importlib-metadata>=4.4 in /usr/local/lib/python3.9/dist-packages (from markdown>=2.6.8->tensorboard<2.12,>=2.11->tensorflow>=2.0->keras-tuner) (6.0.0)\n",
            "Requirement already satisfied: MarkupSafe>=2.1.1 in /usr/local/lib/python3.9/dist-packages (from werkzeug>=1.0.1->tensorboard<2.12,>=2.11->tensorflow>=2.0->keras-tuner) (2.1.2)\n",
            "Requirement already satisfied: zipp>=0.5 in /usr/local/lib/python3.9/dist-packages (from importlib-metadata>=4.4->markdown>=2.6.8->tensorboard<2.12,>=2.11->tensorflow>=2.0->keras-tuner) (3.15.0)\n",
            "Requirement already satisfied: pyasn1<0.5.0,>=0.4.6 in /usr/local/lib/python3.9/dist-packages (from pyasn1-modules>=0.2.1->google-auth<3,>=1.6.3->tensorboard<2.12,>=2.11->tensorflow>=2.0->keras-tuner) (0.4.8)\n",
            "Requirement already satisfied: oauthlib>=3.0.0 in /usr/local/lib/python3.9/dist-packages (from requests-oauthlib>=0.7.0->google-auth-oauthlib<0.5,>=0.4.1->tensorboard<2.12,>=2.11->tensorflow>=2.0->keras-tuner) (3.2.2)\n",
            "Installing collected packages: kt-legacy, jedi, keras-tuner\n",
            "Successfully installed jedi-0.18.2 keras-tuner-1.3.0 kt-legacy-1.0.4\n"
          ]
        }
      ]
    },
    {
      "cell_type": "code",
      "execution_count": null,
      "metadata": {
        "id": "Y0a079Cxus7m",
        "colab": {
          "base_uri": "https://localhost:8080/"
        },
        "outputId": "d2859634-7239-4cdc-81f8-cebe40f62f0c"
      },
      "outputs": [
        {
          "output_type": "stream",
          "name": "stderr",
          "text": [
            "/usr/local/lib/python3.9/dist-packages/IPython/core/interactiveshell.py:3326: DtypeWarning: Columns (0,2,3,4,5,6,7,8,9,10,11,12,13,14,15,16,17,18,19,20,21,22,23,24,25,26,27,28,29,30,31,32,33,34,35,36,37,38,39,40,41,42,43,44,45,46,47,48,49,50,51,52,53,54,55,56,57,58,59,60,61,62,63,64,65,66,67,68,69,70,71,72,73,74,75,76,77,78,79,80,81,82,83,84,85,86,87,88,89,90,91,92,93,94,95,96,97,98,99,100,101,102,103,104,105,106,107,108,109,110,111,112,113,114,115,116,117,118,119,120,121,122,123,124,125,126,127,128,129,130,131,132,133,134,135,136,137,138,139,140,141,142,143,144,145,146,147,148,149,150,151,152,153,154,155,156,157,158,159,160,161,162,163,164,165,166,167,168,169,170,171,172,173,174,175,176,177,178,179,180,181,182,183,184,185,186,187,188,189,190,191,192,193,194,195,196,197,198,199,200,201,202,203,204,205,206,207,208,209,210,211,212,213,214,215,216,217,218,219,220,221,222,223,224,225,226,227,228,229,230,231,232,233,234,235,236,237,238,239,240,241,242,243,244,245,246,247,248,249,250,251,252,253,254,255,256,257,258,259,260,261,262,263,264,265,266,267,268,269,270,271,272,273,274,275,276,277,278,279,280,281,282,283,284,285,286,287,288,289,290,291,292,293,294,295,296,297,298,299,300,301,302,303,304,305,306,307,308,309,310,311,312,313,314,315,316,317,318,319,320,321,322,323,324,325,326,327,328,329,330,331,332,333,334,335,336,337,338,339,340,341,342,343,344,345,346,347,348,349,350,351,352,353,354,355,356,357,358,359,360,361,362,363,364,365,366,367,368,369,370,371,372,373,374,375,376,377,378,379,380,381,382,383,384,385,386,387,388,389,390,391,392,393,394,395,396,397,398,399,400,401,402,403,404,405,406,407,408,409,410,411,412,413,414,415,416,417,418,419,420,421,422,423,424,425,426,427,428,429,430,431,432,433,434,435,436,437,438,439,440,441,442,443,444,445,446,447,448,449,450,451,452,453,454,455,456,457,458,459,460,461,462,463,464,465,466,467,468,469,470,471,472,473,474,475,476,477,478,479,480,481,482,483,484,485,486,487,488,489,490,491,492,493,494,495,496,497,498,499,500,501,502,503,504,505,506,507,508,509,510,511,512,513,514,515,516,517,518,519,520,521,522,523,524,525,526,527,528,529,530,531,532,533,534,535,536,537,538,539,540,541,542,543,544,545,546,547,548,549,550,551,552,553,554,555,556,557,558,559,560,561,562,563,564,565,566,567,568,569,570,571,572,573,574,575,576,577,578,579,580,581,582,583,584,585,586,587,588,589,590,591,592,593,594,595,596,597,598,599,600,601,602,603,604,605,606,607,608,609,610,611,612,613,614,615,616,617,618,619,620,621,622,623,624,625,626,627,628,629,630,631,632,633,634,635,636,637,638,639,640,641,642,643,644,645,646,647,648,649,650,651,652,653,654,655,656,657,658,659,660,661,662,663,664,665,666,667,668,669,670,671,672,673,674,675,676,677,678,679,680,681,682,683,684,685,686,687,688,689,690,691,692,693,694,695,696,697,698,699,700,701,702,703,704,705,706,707,708,709,710,711,712,713,714,715,716,717,718,719,720,721,722,723,724,725,726,727,728,729,730,731,732,733,734,735,736,737,738,739,740,741,742,743,744,745,746,747,748,749,750,751,752,753,754,755,756,757,758,759,760,761,762,763,764,765,766,767,768,769,770,771,772,773,774,775,776,777,778,779,780,781,782,783,784,785,786,787,788,789,790,791,792,793,794,795,796,797,798,799,800,801,802,803,804,805,806,807,808,809,810,811,812,813,814,815,816,817,818,819,820,821,822,823,824,825,826,827,828,829,830,831,832,833,834,835,836,837,838,839,840,841,842,843,844,845,846,847,848,849,850,851,852,853,854,855,856,857,858,859,860,861,862,863,864,865,866,867,868,869,870,871,872,873,874,875,876,877,878,879,880,881,882,883,884,885,886,887,888,889,890,891,892,893,894,895,896,897,898,899,900,901,902,903,904,905,906,907,908,909,910,911,912,913,914,915,916,917,918,919,920,921,922,923,924,925,926,927,928,929,930,931,932,933,934,935,936,937,938,939,940,941,942,943,944,945,946,947,948,949,950,951,952,953,954,955,956,957,958,959,960,961,962,963,964,965,966,967,968,969,970,971,972,973,974,975,976,977,978,979,980,981,982,983,984,985,986,987,988,989,990,991,992,993,994,995,996,997,998,999,1000,1001,1002,1003,1004,1005,1006,1007,1008,1009,1010,1011,1012,1013,1014,1015,1016,1017,1018,1019,1020,1021,1022,1023,1024,1025,1026,1027,1028,1029,1030,1031,1032,1033,1034,1035,1036) have mixed types.Specify dtype option on import or set low_memory=False.\n",
            "  exec(code_obj, self.user_global_ns, self.user_ns)\n"
          ]
        }
      ],
      "source": [
        "#imports\n",
        "import pandas as pd\n",
        "import numpy as np\n",
        "\n",
        "df0 = pd.read_csv('/content/drive/MyDrive/Major Project - II/0_interpolate_n.csv')\n",
        "df1 = pd.read_csv('/content/drive/MyDrive/Major Project - II/1_interpolate_n.csv')"
      ]
    },
    {
      "cell_type": "code",
      "source": [
        "df0 = df0.iloc[:,2:]\n",
        "df1 = df1.iloc[:3579,2:]\n",
        "df0 = df0.drop(df0.index[0])\n",
        "df1 = df1.drop(df1.index[0])\n",
        "\n",
        "df0 = df0.fillna(0)\n",
        "df0 = df0.astype('float64')\n",
        "df1 = df1.fillna(0)\n",
        "df1 = df1.astype('float64')\n",
        "\n",
        "from sklearn.utils import resample\n",
        "df1 = resample(df1,\n",
        "             replace=True,\n",
        "             n_samples=len(df0),\n",
        "             random_state=42)\n",
        "             \n",
        "df = pd.concat([df0, df1], ignore_index=True)"
      ],
      "metadata": {
        "id": "BVlb-ECqpfIm"
      },
      "execution_count": null,
      "outputs": []
    },
    {
      "cell_type": "code",
      "source": [
        "# dataset shuffling\n",
        "df = df.sample(frac=1).reset_index(drop=True)\n",
        "\n",
        "# test and train dataset preparation\n",
        "trainX, trainy = df.iloc[:60000, 1:], df.iloc[:60000, :1]\n",
        "testX, testy = df.iloc[60001:, 1:], df.iloc[60001:, :1]\n",
        "\n",
        "# print(trainX.shape, trainy.shape, testX.shape, testy.shape)"
      ],
      "metadata": {
        "id": "m2N2jYuRxIyV"
      },
      "execution_count": null,
      "outputs": []
    },
    {
      "cell_type": "code",
      "source": [
        "#input scaling\n",
        "from sklearn.preprocessing import MinMaxScaler\n",
        "scaler = MinMaxScaler()\n",
        "scaler.fit(trainX)\n",
        "scaled_train = scaler.transform(trainX)\n",
        "scaled_test = scaler.transform(testX)"
      ],
      "metadata": {
        "id": "dSQxnLD-3X_G"
      },
      "execution_count": null,
      "outputs": []
    },
    {
      "cell_type": "code",
      "source": [
        "from keras.models import Sequential\n",
        "from keras.layers import Dense\n",
        "from tensorflow import keras\n",
        "# from keras.layers import Flatten\n",
        "from keras.layers import Dropout\n",
        "from keras.layers import LSTM\n",
        "from keras_tuner.tuners import RandomSearch"
      ],
      "metadata": {
        "id": "EtilkRmm8WSx"
      },
      "execution_count": null,
      "outputs": []
    },
    {
      "cell_type": "code",
      "source": [
        "def build_model(hp):\n",
        "  n_timesteps, n_features, n_outputs = trainX.shape[1], 1, trainy.shape[1]\n",
        "  model = Sequential()\n",
        "  model.add(LSTM(100, input_shape=(n_timesteps,n_features)))\n",
        "  model.add(Dropout(hp.Choice('dropout', [0.2, 0.5])))\n",
        "\n",
        "  for i in range(hp.Int('layers', 1, 4)):\n",
        "    model.add(Dense(\n",
        "      units=hp.Int('units_' + str(i), 30, 500, step=30),\n",
        "      activation=hp.Choice('act_' + str(i), ['relu', 'sigmoid'])    \n",
        "    ))\n",
        "\n",
        "  model.add(Dense(n_outputs, activation='sigmoid'))\n",
        "  model.compile(loss='binary_crossentropy', optimizer=keras.optimizers.Adam(\n",
        "      hp.Choice('learning_rate',\n",
        "                values=[1e-2, 1e-4])),\n",
        "                metrics=['accuracy'])\n",
        "\n",
        "  return model"
      ],
      "metadata": {
        "id": "5YSksItcw-7a"
      },
      "execution_count": null,
      "outputs": []
    },
    {
      "cell_type": "code",
      "source": [
        "tuner = RandomSearch(\n",
        "    build_model,\n",
        "    objective='val_accuracy',\n",
        "    max_trials=4,\n",
        "    executions_per_trial=3,\n",
        "    directory='my_dir',\n",
        "    project_name='rnn_lstm'\n",
        ")"
      ],
      "metadata": {
        "id": "UER0pv0vVQ0f"
      },
      "execution_count": null,
      "outputs": []
    },
    {
      "cell_type": "code",
      "source": [
        "tuner.search_space_summary()"
      ],
      "metadata": {
        "colab": {
          "base_uri": "https://localhost:8080/"
        },
        "id": "Ebq-g66HWcGx",
        "outputId": "5fe2e188-8ded-4a93-b1c8-b59c275c3866"
      },
      "execution_count": null,
      "outputs": [
        {
          "output_type": "stream",
          "name": "stdout",
          "text": [
            "Search space summary\n",
            "Default search space size: 5\n",
            "dropout (Choice)\n",
            "{'default': 0.2, 'conditions': [], 'values': [0.2, 0.5], 'ordered': True}\n",
            "layers (Int)\n",
            "{'default': None, 'conditions': [], 'min_value': 1, 'max_value': 4, 'step': 1, 'sampling': 'linear'}\n",
            "units_0 (Int)\n",
            "{'default': None, 'conditions': [], 'min_value': 30, 'max_value': 500, 'step': 30, 'sampling': 'linear'}\n",
            "act_0 (Choice)\n",
            "{'default': 'relu', 'conditions': [], 'values': ['relu', 'sigmoid'], 'ordered': False}\n",
            "learning_rate (Choice)\n",
            "{'default': 0.01, 'conditions': [], 'values': [0.01, 0.0001], 'ordered': True}\n"
          ]
        }
      ]
    },
    {
      "cell_type": "code",
      "source": [
        "tuner.search(trainX, trainy,\n",
        "             epochs=15,\n",
        "             validation_data=(testX,testy))"
      ],
      "metadata": {
        "colab": {
          "base_uri": "https://localhost:8080/"
        },
        "id": "qxP-PMaZWCcL",
        "outputId": "d5cc8cc9-eabc-4343-8c0f-340462113a0b"
      },
      "execution_count": null,
      "outputs": [
        {
          "output_type": "stream",
          "name": "stdout",
          "text": [
            "Trial 3 Complete [00h 55m 17s]\n",
            "val_accuracy: 0.6673404773076376\n",
            "\n",
            "Best val_accuracy So Far: 0.6673404773076376\n",
            "Total elapsed time: 02h 43m 14s\n",
            "\n",
            "Search: Running Trial #4\n",
            "\n",
            "Value             |Best Value So Far |Hyperparameter\n",
            "0.5               |0.2               |dropout\n",
            "3                 |1                 |layers\n",
            "210               |120               |units_0\n",
            "sigmoid           |sigmoid           |act_0\n",
            "0.0001            |0.0001            |learning_rate\n",
            "390               |450               |units_1\n",
            "sigmoid           |relu              |act_1\n",
            "60                |30                |units_2\n",
            "relu              |sigmoid           |act_2\n",
            "300               |450               |units_3\n",
            "sigmoid           |sigmoid           |act_3\n",
            "\n",
            "Epoch 1/15\n",
            "1875/1875 [==============================] - 78s 40ms/step - loss: 0.6513 - accuracy: 0.6162 - val_loss: 0.6405 - val_accuracy: 0.6388\n",
            "Epoch 2/15\n",
            "1875/1875 [==============================] - 69s 37ms/step - loss: 0.6386 - accuracy: 0.6377 - val_loss: 0.6331 - val_accuracy: 0.6430\n",
            "Epoch 3/15\n",
            "1875/1875 [==============================] - 70s 37ms/step - loss: 0.6355 - accuracy: 0.6418 - val_loss: 0.6342 - val_accuracy: 0.6401\n",
            "Epoch 4/15\n",
            "1875/1875 [==============================] - 73s 39ms/step - loss: 0.6317 - accuracy: 0.6467 - val_loss: 0.6349 - val_accuracy: 0.6399\n",
            "Epoch 5/15\n",
            "1875/1875 [==============================] - 70s 37ms/step - loss: 0.6387 - accuracy: 0.6312 - val_loss: 0.6403 - val_accuracy: 0.6361\n",
            "Epoch 6/15\n",
            "1875/1875 [==============================] - 70s 37ms/step - loss: 0.6316 - accuracy: 0.6459 - val_loss: 0.6286 - val_accuracy: 0.6525\n",
            "Epoch 7/15\n",
            "1875/1875 [==============================] - 68s 36ms/step - loss: 0.6265 - accuracy: 0.6525 - val_loss: 0.6232 - val_accuracy: 0.6576\n",
            "Epoch 8/15\n",
            "1875/1875 [==============================] - 73s 39ms/step - loss: 0.6258 - accuracy: 0.6542 - val_loss: 0.6256 - val_accuracy: 0.6580\n",
            "Epoch 9/15\n",
            "1875/1875 [==============================] - 72s 39ms/step - loss: 0.6275 - accuracy: 0.6482 - val_loss: 0.6256 - val_accuracy: 0.6555\n",
            "Epoch 10/15\n",
            "1875/1875 [==============================] - 69s 37ms/step - loss: 0.6274 - accuracy: 0.6491 - val_loss: 0.6432 - val_accuracy: 0.6338\n",
            "Epoch 11/15\n",
            "1875/1875 [==============================] - 69s 37ms/step - loss: 0.6336 - accuracy: 0.6377 - val_loss: 0.6313 - val_accuracy: 0.6468\n",
            "Epoch 12/15\n",
            "1875/1875 [==============================] - 72s 38ms/step - loss: 0.6329 - accuracy: 0.6416 - val_loss: 0.6371 - val_accuracy: 0.6303\n",
            "Epoch 13/15\n",
            "1875/1875 [==============================] - 69s 37ms/step - loss: 0.6345 - accuracy: 0.6367 - val_loss: 0.6336 - val_accuracy: 0.6383\n",
            "Epoch 14/15\n",
            "1875/1875 [==============================] - 69s 37ms/step - loss: 0.6305 - accuracy: 0.6450 - val_loss: 0.6291 - val_accuracy: 0.6481\n",
            "Epoch 15/15\n",
            "1875/1875 [==============================] - 72s 39ms/step - loss: 0.6305 - accuracy: 0.6469 - val_loss: 0.6505 - val_accuracy: 0.6178\n",
            "Epoch 1/15\n",
            "1875/1875 [==============================] - 78s 39ms/step - loss: 0.6553 - accuracy: 0.6140 - val_loss: 0.6431 - val_accuracy: 0.6340\n",
            "Epoch 2/15\n",
            "1875/1875 [==============================] - 69s 37ms/step - loss: 0.6416 - accuracy: 0.6342 - val_loss: 0.6377 - val_accuracy: 0.6462\n",
            "Epoch 3/15\n",
            "1875/1875 [==============================] - 73s 39ms/step - loss: 0.6412 - accuracy: 0.6327 - val_loss: 0.6359 - val_accuracy: 0.6421\n",
            "Epoch 4/15\n",
            "1875/1875 [==============================] - 74s 39ms/step - loss: 0.6385 - accuracy: 0.6363 - val_loss: 0.6316 - val_accuracy: 0.6436\n",
            "Epoch 5/15\n",
            "1875/1875 [==============================] - 74s 40ms/step - loss: 0.6391 - accuracy: 0.6348 - val_loss: 0.6333 - val_accuracy: 0.6419\n",
            "Epoch 6/15\n",
            "1875/1875 [==============================] - 73s 39ms/step - loss: 0.6354 - accuracy: 0.6407 - val_loss: 0.6349 - val_accuracy: 0.6451\n",
            "Epoch 7/15\n",
            "1875/1875 [==============================] - 69s 37ms/step - loss: 0.6341 - accuracy: 0.6412 - val_loss: 0.6295 - val_accuracy: 0.6505\n",
            "Epoch 8/15\n",
            "1875/1875 [==============================] - 70s 37ms/step - loss: 0.6302 - accuracy: 0.6471 - val_loss: 0.6271 - val_accuracy: 0.6514\n",
            "Epoch 9/15\n",
            "1875/1875 [==============================] - 70s 37ms/step - loss: 0.6301 - accuracy: 0.6477 - val_loss: 0.6294 - val_accuracy: 0.6452\n",
            "Epoch 10/15\n",
            "1875/1875 [==============================] - 72s 39ms/step - loss: 0.6285 - accuracy: 0.6484 - val_loss: 0.6261 - val_accuracy: 0.6488\n",
            "Epoch 11/15\n",
            "1875/1875 [==============================] - 69s 37ms/step - loss: 0.6284 - accuracy: 0.6510 - val_loss: 0.6325 - val_accuracy: 0.6446\n",
            "Epoch 12/15\n",
            "1875/1875 [==============================] - 69s 37ms/step - loss: 0.6259 - accuracy: 0.6535 - val_loss: 0.6256 - val_accuracy: 0.6591\n",
            "Epoch 13/15\n",
            "1875/1875 [==============================] - 67s 36ms/step - loss: 0.6264 - accuracy: 0.6519 - val_loss: 0.6214 - val_accuracy: 0.6591\n",
            "Epoch 14/15\n",
            "1875/1875 [==============================] - 69s 37ms/step - loss: 0.6229 - accuracy: 0.6557 - val_loss: 0.6214 - val_accuracy: 0.6576\n",
            "Epoch 15/15\n",
            "1875/1875 [==============================] - 72s 39ms/step - loss: 0.6217 - accuracy: 0.6571 - val_loss: 0.6197 - val_accuracy: 0.6576\n",
            "Epoch 1/15\n",
            "1875/1875 [==============================] - 78s 39ms/step - loss: 0.6530 - accuracy: 0.6166 - val_loss: 0.6401 - val_accuracy: 0.6406\n",
            "Epoch 2/15\n",
            "1875/1875 [==============================] - 69s 37ms/step - loss: 0.6395 - accuracy: 0.6346 - val_loss: 0.6400 - val_accuracy: 0.6318\n",
            "Epoch 3/15\n",
            "1875/1875 [==============================] - 69s 37ms/step - loss: 0.6367 - accuracy: 0.6374 - val_loss: 0.6331 - val_accuracy: 0.6448\n",
            "Epoch 4/15\n",
            "1875/1875 [==============================] - 73s 39ms/step - loss: 0.6334 - accuracy: 0.6419 - val_loss: 0.6397 - val_accuracy: 0.6297\n",
            "Epoch 5/15\n",
            "1875/1875 [==============================] - 70s 37ms/step - loss: 0.6349 - accuracy: 0.6410 - val_loss: 0.6306 - val_accuracy: 0.6463\n",
            "Epoch 6/15\n",
            "1875/1875 [==============================] - 68s 36ms/step - loss: 0.6307 - accuracy: 0.6482 - val_loss: 0.6323 - val_accuracy: 0.6436\n",
            "Epoch 7/15\n",
            "1875/1875 [==============================] - 67s 36ms/step - loss: 0.6314 - accuracy: 0.6428 - val_loss: 0.6599 - val_accuracy: 0.5831\n",
            "Epoch 8/15\n",
            " 658/1875 [=========>....................] - ETA: 42s - loss: 0.6419 - accuracy: 0.6319"
          ]
        }
      ]
    },
    {
      "cell_type": "code",
      "source": [
        "tuner.results_summary()"
      ],
      "metadata": {
        "id": "XF8FHXTOT_Y9"
      },
      "execution_count": null,
      "outputs": []
    },
    {
      "cell_type": "code",
      "source": [],
      "metadata": {
        "id": "By1Znc8l-m9M"
      },
      "execution_count": null,
      "outputs": []
    }
  ]
}